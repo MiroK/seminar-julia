{
 "cells": [
  {
   "cell_type": "markdown",
   "metadata": {},
   "source": [
    "# INTRODUCTION TO JULIA\n",
    "\n",
    "## Warning\n",
    "\n",
    "+ Setting: Phd seminar in Prague 2011. MK talks about _FEniCS_. Wrongly, people fall asleep. __FEniCS is awesome__.\n",
    "+ Setting: Phd seminar in Oslo 2016. MK talks about _Julia_. ???. __Julia is awesome__."
   ]
  },
  {
   "cell_type": "markdown",
   "metadata": {},
   "source": [
    "## SETUP\n",
    "\n",
    "+ Ubuntu package from the repository\n",
    "```\n",
    "sudo add-apt-repository ppa:staticfloat/juliareleases\n",
    "sudo add-apt-repository ppa:staticfloat/julia-deps\n",
    "sudo apt-get update\n",
    "sudo apt-get install julia\n",
    "```\n",
    "+ [Download](http://julialang.org/downloads/) Binaries (all platforms)\n",
    "+ Build from source code\n",
    "```\n",
    "git clone https://github.com/JuliaLang/julia.git\n",
    "cd julia\n",
    "git checkout release-0.4  # unless you want the latest master\n",
    "make -j 4\n",
    "```\n",
    "+ Try Julia in your browser via [JuliaBox](https://www.juliabox.org/). No installation but Google account required\n"
   ]
  },
  {
   "cell_type": "markdown",
   "metadata": {},
   "source": [
    "## INTERACTION & SNEAK PEEK\n",
    "\n",
    "Some modes of interacting with Julia:\n",
    "+ REPL (go to terminal)\n",
    "    - Julian mode, help mode(?), shell mode(;)\n",
    "    - ! `edit`\n",
    "+ text editor + command line\n",
    "    - ! Demo\n",
    "+ Jupyter notebook\n",
    "    - From inside Julia run `Pkg.add(\"IJulia\")`. This gives you Julia kernel that the notebook can talk to\n",
    "    - This is the notebok :)"
   ]
  },
  {
   "cell_type": "code",
   "execution_count": null,
   "metadata": {
    "collapsed": false
   },
   "outputs": [],
   "source": [
    "installed_packages = Pkg.installed()\n",
    "# len tab\n",
    "length(installed_packages)"
   ]
  },
  {
   "cell_type": "code",
   "execution_count": null,
   "metadata": {
    "collapsed": false
   },
   "outputs": [],
   "source": [
    "haskey(installed_packages, \"IJulia\")"
   ]
  },
  {
   "cell_type": "code",
   "execution_count": null,
   "metadata": {
    "collapsed": false
   },
   "outputs": [],
   "source": [
    "# Some unicode\n",
    "a = 1:10;\n",
    "1 ∈ a"
   ]
  },
  {
   "cell_type": "code",
   "execution_count": null,
   "metadata": {
    "collapsed": false
   },
   "outputs": [],
   "source": [
    "b = 4:20;\n",
    "a ∩ b"
   ]
  },
  {
   "cell_type": "code",
   "execution_count": null,
   "metadata": {
    "collapsed": false
   },
   "outputs": [],
   "source": [
    "# Explore: Docstring contains the query\n",
    "apropos(\"eigenvalues\")"
   ]
  },
  {
   "cell_type": "markdown",
   "metadata": {},
   "source": [
    "## WHAT IS IT?\n",
    "+ Julia: A fresh approach to numerical computing, see [paper](http://arxiv.org/abs/1411.1607)\n",
    "+ High level, dynamic, (dynamically) typed langauage, general purpose \n",
    "+ Free and open-source. MIT licence\n",
    "+ Went [viral](https://www.google.com/trends/explore#q=julia%20language) on Valentine's day 2014\n",
    "+ Some features we will see in action today\n",
    "    - rich typestem\n",
    "    - type inference\n",
    "    - JIT compiler\n",
    "    - multiple dispatch\n",
    "    - metaprogramming\n",
    "    - built in parallelism"
   ]
  },
  {
   "cell_type": "markdown",
   "metadata": {},
   "source": [
    "## WHY DO WE NEED YET ANOTHER LANGUAGE?\n",
    "\n",
    "Short answer - to address the two language paradygm\n",
    "+ Express the idea in high level language(Python) - setup prototype quickly. Performance far from production code\n",
    "+ Production code then written in low level language (C/C++)\n",
    "+ Write performance critical parts of code in low level language and glued together (Number, SWIG)\n",
    "    - FEniCS uses Python to spit C++ code that is compiled and wrapped for Python\n",
    "    - Diako/Mikael prototype in Python/NumPy and then write the same code in Cython\n",
    "+ To extend NumPy/SciPy you (usually) have to write C"
   ]
  },
  {
   "cell_type": "markdown",
   "metadata": {},
   "source": [
    "Julia's approach\n",
    "+ Designed to be easy to write with performance close to C\n",
    "+ If that is true you need one language to solve your problem\n",
    "+ It seems to be true"
   ]
  },
  {
   "cell_type": "raw",
   "metadata": {},
   "source": [
    "              |     F|Julia |Python\t|R      |Matlab\t|Octave\t    |Mathmn\t|JS\t    |Go\t    |LuaJIT\t|Java\n",
    "--------------|------|------|-------|-------|-------|-----------|-------|-------|-------|-------|----    \n",
    "fib\t          |0.70  |2.11\t|77.76\t|533.52\t|26.89\t|9324.35\t|118.53\t|3.36\t|1.86\t|1.71\t|1.21\n",
    "parse_int\t  |5.05\t |1.45\t|17.02\t|45.73\t|802.52\t|9581.44\t|15.02\t|6.06\t|1.20\t|5.77\t|3.35\n",
    "quicksort\t  |1.31\t |1.15\t|32.89\t|264.54\t|4.92\t|1866.01\t|43.23\t|2.70\t|1.29\t|2.03\t|2.60\n",
    "mandel\t      |0.81\t |0.79\t|15.32\t|53.16\t|7.58\t|451.81\t    |5.13\t|0.66\t|1.11\t|0.67\t|1.35\n",
    "pi_sum\t      |1.00\t |1.00\t|21.99\t|9.56\t|1.00\t|299.31\t    |1.69\t|1.01\t|1.00\t|1.00\t|1.00\n",
    "rand_mat_stat |1.45\t |1.66\t|17.93\t|14.56\t|14.52\t|30.93\t    |5.95\t|2.30\t|2.96\t|3.27\t|3.92\n",
    "rand_mat_mul  |3.48\t |1.02\t|1.14\t|1.57\t|1.12\t|1.12\t    |1.30\t|15.07\t|1.42\t|1.16\t|2.36"
   ]
  },
  {
   "cell_type": "markdown",
   "metadata": {},
   "source": [
    "## WHEN IT READS LIKE PYTHON"
   ]
  },
  {
   "cell_type": "markdown",
   "metadata": {},
   "source": [
    "## SOME DIFFERENCES FROM PYTHON"
   ]
  },
  {
   "cell_type": "markdown",
   "metadata": {},
   "source": [
    "## WHEN IT _IS_ PYTHON"
   ]
  },
  {
   "cell_type": "markdown",
   "metadata": {},
   "source": [
    "## WHEN IT _IS NOT_ PYTHON / REASONS FOR SPEED"
   ]
  },
  {
   "cell_type": "markdown",
   "metadata": {},
   "source": [
    "## CALLING C"
   ]
  },
  {
   "cell_type": "markdown",
   "metadata": {},
   "source": [
    "## METAPROGRAMMING"
   ]
  },
  {
   "cell_type": "markdown",
   "metadata": {},
   "source": [
    "## BATTERIES INCLUDED"
   ]
  },
  {
   "cell_type": "markdown",
   "metadata": {},
   "source": [
    "## ADDITIONAL RESOURCES\n",
    "\n",
    "+ Wikibook [__Introducing Julia__](https://en.wikibooks.org/wiki/Introducing_Julia)  \n",
    "+ [__Julia manual__](http://docs.julialang.org/en/release-0.4/) from the homepage\n",
    "+ YouTube videos\n",
    "    - Introduction [Steven Johnson](https://www.youtube.com/watch?v=jhlVHoeB05A) @ EuroScipy\n",
    "    - Introduction [Alan Edelman](https://www.youtube.com/watch?v=37L1OMk_3FU) @ MIT\n",
    "    - Some metaprogramming [Jeff Bezanson, Stefan Karpinski](https://www.youtube.com/watch?v=pZTqMSM2ksY) @ Curry On\n",
    "    - Julia + Python [Stefan Karpinksi](https://www.youtube.com/watch?v=PsjANO10KgM)@ PyDATA\n",
    "    - ... and plenty others from [JuliaCon](http://juliacon.org/). See Julia's [YouTube](https://www.youtube.com/user/JuliaLanguage/videos) channel.\n",
    "+ Blog posts (mostly metaprogramming)\n",
    "    - [John Myles White](http://www.johnmyleswhite.com/notebook/category/julia/)\n",
    "    - [Gray Calhoun](http://gray.clhn.org/blog/julia-macros/)\n",
    "+ Source code on [GitHub](https://github.com/JuliaLang/julia)"
   ]
  }
 ],
 "metadata": {
  "celltoolbar": "Raw Cell Format",
  "kernelspec": {
   "display_name": "Julia 0.4.4-pre",
   "language": "julia",
   "name": "julia-0.4"
  },
  "language_info": {
   "file_extension": ".jl",
   "mimetype": "application/julia",
   "name": "julia",
   "version": "0.4.4"
  }
 },
 "nbformat": 4,
 "nbformat_minor": 0
}
