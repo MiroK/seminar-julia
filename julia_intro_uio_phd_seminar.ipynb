{
 "cells": [
  {
   "cell_type": "markdown",
   "metadata": {},
   "source": [
    "# INTRODUCTION TO JULIA\n",
    "\n",
    "## Warning\n",
    "\n",
    "+ Setting: Phd seminar in Prague 2011. MK talks about _FEniCS_. Wrongly, people fall asleep. __FEniCS is awesome__.\n",
    "+ Setting: Phd seminar in Oslo 2016. MK talks about _Julia_. ???. __Julia is awesome__."
   ]
  },
  {
   "cell_type": "markdown",
   "metadata": {},
   "source": [
    "## SETUP\n",
    "\n",
    "+ Ubuntu package from the repository\n",
    "```\n",
    "sudo add-apt-repository ppa:staticfloat/juliareleases\n",
    "sudo add-apt-repository ppa:staticfloat/julia-deps\n",
    "sudo apt-get update\n",
    "sudo apt-get install julia\n",
    "```\n",
    "+ [Download](http://julialang.org/downloads/) Binaries (all platforms)\n",
    "+ Build from source code\n",
    "```\n",
    "git clone https://github.com/JuliaLang/julia.git\n",
    "cd julia\n",
    "git checkout release-0.4  # unless you want the latest master\n",
    "make -j 4\n",
    "```\n",
    "+ Try Julia in your browser via [JuliaBox](https://www.juliabox.org/). No installation but Google account required\n"
   ]
  },
  {
   "cell_type": "markdown",
   "metadata": {},
   "source": [
    "## INTERACTION & SNEAK PEEK\n",
    "\n",
    "Some modes of interacting with Julia:\n",
    "+ REPL (go to terminal)\n",
    "    - Julian mode, help mode(?), shell mode(;)\n",
    "    - ! `edit`\n",
    "+ text editor + command line\n",
    "    - ! Demo\n",
    "+ Jupyter notebook\n",
    "    - From inside Julia run `Pkg.add(\"IJulia\")`. This gives you Julia kernel that the notebook can talk to\n",
    "    - This is the notebok :)"
   ]
  },
  {
   "cell_type": "code",
   "execution_count": null,
   "metadata": {
    "collapsed": false
   },
   "outputs": [],
   "source": [
    "installed_packages = Pkg.installed()\n",
    "# len tab\n",
    "length(installed_packages)"
   ]
  },
  {
   "cell_type": "code",
   "execution_count": null,
   "metadata": {
    "collapsed": false
   },
   "outputs": [],
   "source": [
    "haskey(installed_packages, \"IJulia\")"
   ]
  },
  {
   "cell_type": "code",
   "execution_count": null,
   "metadata": {
    "collapsed": false
   },
   "outputs": [],
   "source": [
    "# Some unicode\n",
    "a = 1:10;\n",
    "1 ∈ a"
   ]
  },
  {
   "cell_type": "code",
   "execution_count": null,
   "metadata": {
    "collapsed": false
   },
   "outputs": [],
   "source": [
    "b = 4:20;\n",
    "a ∩ b"
   ]
  },
  {
   "cell_type": "code",
   "execution_count": null,
   "metadata": {
    "collapsed": false
   },
   "outputs": [],
   "source": [
    "# Explore: Docstring contains the query\n",
    "apropos(\"eigenvalues\")"
   ]
  },
  {
   "cell_type": "markdown",
   "metadata": {},
   "source": [
    "## WHAT IS IT?\n",
    "+ Julia: A fresh approach to numerical computing, see [paper](http://arxiv.org/abs/1411.1607)\n",
    "+ High level, dynamic, (dynamically) typed, general purpose language\n",
    "+ Free and open-source. MIT licence\n",
    "+ Went [viral](https://www.google.com/trends/explore#q=julia%20language) on Valentine's day 2014\n",
    "+ Some features we will see in action today\n",
    "    - rich typestem\n",
    "    - type inference\n",
    "    - JIT compiler\n",
    "    - multiple dispatch\n",
    "    - metaprogramming\n",
    "    - built in parallelism"
   ]
  },
  {
   "cell_type": "markdown",
   "metadata": {},
   "source": [
    "## WHY DO WE NEED YET ANOTHER LANGUAGE?\n",
    "\n",
    "Short answer - to address the two language paradygm\n",
    "+ Express the idea in high level language(Python) - setup prototype quickly. Performance far from production code\n",
    "+ Production code then written in low level language (C/C++)\n",
    "+ Write performance critical parts of code in low level language and glue together (Numba, SWIG)\n",
    "    - FEniCS uses Python to generate C++ code that is compiled and wrapped for Python\n",
    "    - Diako/Mikael prototype in Python/NumPy and then write the same code in Cython\n",
    "+ To extend NumPy/SciPy you (usually) have to write C"
   ]
  },
  {
   "cell_type": "markdown",
   "metadata": {},
   "source": [
    "Julia's approach\n",
    "+ Designed to be easy to write with performance close to C\n",
    "+ If that is true you need one language to solve your problem\n",
    "+ It seems to be true"
   ]
  },
  {
   "cell_type": "raw",
   "metadata": {},
   "source": [
    "              |     F|Julia |Python\t|R      |Matlab\t|Octave\t    |Mathm\t|JS\t    |Go\t    |LuaJIT\t|Java\n",
    "--------------|------|------|-------|-------|-------|-----------|-------|-------|-------|-------|----    \n",
    "fib\t          |0.70  |2.11\t|77.76\t|533.52\t|26.89\t|9324.35\t|118.53\t|3.36\t|1.86\t|1.71\t|1.21\n",
    "parse_int\t  |5.05\t |1.45\t|17.02\t|45.73\t|802.52\t|9581.44\t|15.02\t|6.06\t|1.20\t|5.77\t|3.35\n",
    "quicksort\t  |1.31\t |1.15\t|32.89\t|264.54\t|4.92\t|1866.01\t|43.23\t|2.70\t|1.29\t|2.03\t|2.60\n",
    "mandel\t      |0.81\t |0.79\t|15.32\t|53.16\t|7.58\t|451.81\t    |5.13\t|0.66\t|1.11\t|0.67\t|1.35\n",
    "pi_sum\t      |1.00\t |1.00\t|21.99\t|9.56\t|1.00\t|299.31\t    |1.69\t|1.01\t|1.00\t|1.00\t|1.00\n",
    "rand_mat_stat |1.45\t |1.66\t|17.93\t|14.56\t|14.52\t|30.93\t    |5.95\t|2.30\t|2.96\t|3.27\t|3.92\n",
    "rand_mat_mul  |3.48\t |1.02\t|1.14\t|1.57\t|1.12\t|1.12\t    |1.30\t|15.07\t|1.42\t|1.16\t|2.36"
   ]
  },
  {
   "cell_type": "markdown",
   "metadata": {
    "collapsed": true
   },
   "source": [
    "### Some benchmark problems of our own"
   ]
  },
  {
   "cell_type": "markdown",
   "metadata": {},
   "source": [
    "### Project Euler problem 14. \n",
    "The following iterative sequence is defined for the set of positive integers:\n",
    "\n",
    "+ n → n/2 (n is even)\n",
    "+ n → 3n + 1 (n is odd)\n",
    "\n",
    "Using the rule above and starting with 13, we generate the following sequence: 13 → 40 → 20 → 10 → 5 → 16 → 8 → 4 → 2 → 1. Which starting number, under one million, produces the longest chain? Note that whether the chain terminates for arbitrary $n$ is an unproved conjecture.\n",
    "\n",
    "+ To solve PE problem's the solution must be obtained in less then 60s. Honor code is to beat 1s.\n",
    "+ Note that the code presented here is not optimal. It is rather a brute force solution.\n",
    "+ The answer it produces is correct"
   ]
  },
  {
   "cell_type": "code",
   "execution_count": null,
   "metadata": {
    "collapsed": false
   },
   "outputs": [],
   "source": [
    "\"\"\"Compute the Collatz chain for number n.\"\"\"\n",
    "function collatz_chain(n)\n",
    "    k = 1\n",
    "    while n > 1\n",
    "        n = isodd(n) ? 3n+1 : n >> 1\n",
    "        k += 1\n",
    "        # println(n)\n",
    "    end\n",
    "    k\n",
    "end\n",
    "\n",
    "\"\"\"Which of the number [1, stop) has the longest Collatz chain.\"\"\"\n",
    "function solve_euler(stop)\n",
    "    n, N, N_max = 1, 0, 0  \n",
    "    while n < stop\n",
    "        value = collatz_chain(n)\n",
    "        if value > N_max\n",
    "            N = n\n",
    "            N_max = value\n",
    "        end\n",
    "        n += 1\n",
    "    end\n",
    "    (N, N_max)\n",
    "end"
   ]
  },
  {
   "cell_type": "code",
   "execution_count": null,
   "metadata": {
    "collapsed": false
   },
   "outputs": [],
   "source": [
    "# Let's time it\n",
    "N = 1000000\n",
    "t0 = tic()\n",
    "answer = solve_euler(N)\n",
    "t1 = toc();\n",
    "answer, t1"
   ]
  },
  {
   "cell_type": "markdown",
   "metadata": {
    "collapsed": true
   },
   "source": [
    "Julia is done in about 0.3s, Python need 12s. So with Julia I am onto the next problem. With Python it is back to the drawing board."
   ]
  },
  {
   "cell_type": "markdown",
   "metadata": {
    "collapsed": true
   },
   "source": [
    "### Julia fractal\n",
    "+ It is only approprate that we explore the Julia set\n",
    "+ Explore points $z$ such that $z_{n+1}=z^2_{n}+c$ is bounded for any n"
   ]
  },
  {
   "cell_type": "code",
   "execution_count": null,
   "metadata": {
    "collapsed": false
   },
   "outputs": [],
   "source": [
    "# Julia code is a translation of the definition\n",
    "\"\"\"Color Julia set. Code from https://www.youtube.com/watch?v=PsjANO10KgM\"\"\"\n",
    "function julia(z, c)\n",
    "    for n in 1:80\n",
    "        if abs2(z) > 4\n",
    "            return n-1\n",
    "        end\n",
    "        z = z*z + c\n",
    "    end\n",
    "    return 80\n",
    "end"
   ]
  },
  {
   "cell_type": "code",
   "execution_count": null,
   "metadata": {
    "collapsed": false
   },
   "outputs": [],
   "source": [
    "# We explore few points\n",
    "cs = (complex(-0.06, 0.67), complex(0.279, 0), complex(-0.4, 0.6), complex(0.285, 0.01))\n",
    "\n",
    "x = collect(1:-0.002:-1);\n",
    "y = collect(-1.5:0.002:1.5);\n",
    "\n",
    "Js = []\n",
    "# Evaluate fractal generation\n",
    "t0 = tic()\n",
    "for c in cs\n",
    "    #push!(Js, [julia(complex(r, i), c) for i in x, r in y]);\n",
    "    push!(julia_faster(x, y, c))\n",
    "end\n",
    "t1 = toc()\n",
    "\n",
    "@printf(\"Generated in %.4f s\\n\", t1);\n",
    "println(\"Image size $(size(J, 1))x$(size(J, 2))\")"
   ]
  },
  {
   "cell_type": "code",
   "execution_count": null,
   "metadata": {
    "collapsed": false
   },
   "outputs": [],
   "source": [
    "# Here we use python interopt(more on that later) to plot the fractals\n",
    "using PyCall\n",
    "@pyimport matplotlib.pyplot as plt\n",
    "\n",
    "for J in Js\n",
    "    plt.figure()\n",
    "    plt.imshow(J, cmap=\"viridis\", extent=[-1.5, 1.5, -1, 1])\n",
    "end\n",
    "plt.show()"
   ]
  },
  {
   "cell_type": "markdown",
   "metadata": {},
   "source": [
    "About 4 seconds is required to make the fractals. This is slower then Python which takes about 2.8. However the speed comes from clever vectorization. And don't worry the code above can be made faster."
   ]
  },
  {
   "cell_type": "markdown",
   "metadata": {},
   "source": [
    "## WHEN IT READS LIKE PYTHON\n",
    "\n",
    "+ Illustrate (not unrealistic) workflow by a made of postprocessing example\n",
    "+ Note that this is high-level: there are lambdas `x -> x + 1`, higher order functions, containers\n",
    "+ No type declarations"
   ]
  },
  {
   "cell_type": "code",
   "execution_count": null,
   "metadata": {
    "collapsed": false
   },
   "outputs": [],
   "source": [
    "# Read the content on the directory and keep only the files\n",
    "files = filter(isfile, readdir(\".\"))"
   ]
  },
  {
   "cell_type": "code",
   "execution_count": null,
   "metadata": {
    "collapsed": false
   },
   "outputs": [],
   "source": [
    "# How many of the files are Julia files\n",
    "n_jl_files = count(f -> endswith(f, \".jl\"), files)\n",
    "println(\"$(pwd()) contains $(n_jl_files) files.\")"
   ]
  },
  {
   "cell_type": "code",
   "execution_count": null,
   "metadata": {
    "collapsed": false
   },
   "outputs": [],
   "source": [
    "# Get those files and print them\n",
    "jl_files = files[find(f -> endswith(f, \".jl\"), files)]\n",
    "for (i, file) in enumerate(jl_files)\n",
    "    println(\"Julia file $(file)\")\n",
    "end"
   ]
  },
  {
   "cell_type": "code",
   "execution_count": null,
   "metadata": {
    "collapsed": false
   },
   "outputs": [],
   "source": [
    "# We have seen Array container. Let's show Sets\n",
    "jl_files2 = append!(jl_files, jl_files)\n",
    "jl_set = Set(jl_files2)\n",
    "println(\"$(pwd()) contains $(length(jl_set)) files.\")"
   ]
  },
  {
   "cell_type": "code",
   "execution_count": null,
   "metadata": {
    "collapsed": false
   },
   "outputs": [],
   "source": [
    "# Reading from file. How many words in the MIT licence?\n",
    "LICENCE = open(\"LICENSE\")\n",
    "content = lowercase(readall(LICENCE))\n",
    "words = split(content, r\"\\W\", keep=false)\n",
    "close(LICENCE)\n",
    "length(words)"
   ]
  },
  {
   "cell_type": "code",
   "execution_count": null,
   "metadata": {
    "collapsed": false
   },
   "outputs": [],
   "source": [
    "# Count them with multiplicity\n",
    "unique = Dict()\n",
    "for word in words\n",
    "    unique[word] = get(unique, word, 0) + 1\n",
    "end"
   ]
  },
  {
   "cell_type": "code",
   "execution_count": null,
   "metadata": {
    "collapsed": false
   },
   "outputs": [],
   "source": [
    "# Most common ones\n",
    "for (k, v) in sort(collect(unique), by=last, rev=true)\n",
    "    println(\"$(k) $(v)\")\n",
    "end"
   ]
  },
  {
   "cell_type": "markdown",
   "metadata": {},
   "source": [
    "## SOME DIFFERENCES FROM PYTHON\n",
    "\n",
    "A few examples where the behaviour from Python is different"
   ]
  },
  {
   "cell_type": "code",
   "execution_count": null,
   "metadata": {
    "collapsed": false
   },
   "outputs": [],
   "source": [
    "# : is => in the dictionary construction\n",
    "dict = Dict(1 => \"Miro\", 2 => \"Kuchta\")"
   ]
  },
  {
   "cell_type": "code",
   "execution_count": null,
   "metadata": {
    "collapsed": false
   },
   "outputs": [],
   "source": [
    "# in checks for (key, value) pair\n",
    "haskey(dict, 1), (1 => \"Miro\") ∈ dict"
   ]
  },
  {
   "cell_type": "code",
   "execution_count": null,
   "metadata": {
    "collapsed": false
   },
   "outputs": [],
   "source": [
    "# iteration is over (key, values) pairs\n",
    "for (key, value) in dict\n",
    "    println(\"$key => $value\")\n",
    "end"
   ]
  },
  {
   "cell_type": "code",
   "execution_count": null,
   "metadata": {
    "collapsed": false
   },
   "outputs": [],
   "source": [
    "# Sting concatenation is done with *. With + the operation should be commutative, which is not the case here\n",
    "\"Julia \" * \" Language\""
   ]
  },
  {
   "cell_type": "code",
   "execution_count": null,
   "metadata": {
    "collapsed": false
   },
   "outputs": [],
   "source": [
    "# / is for floating point division. Integer division is done by div\n",
    "/(7, 4), div(7, 4)"
   ]
  },
  {
   "cell_type": "code",
   "execution_count": null,
   "metadata": {
    "collapsed": false
   },
   "outputs": [],
   "source": [
    "# Indexing starts at one. The last element in range is included\n",
    "a = [1, 2, 3]\n",
    "try\n",
    "    a[0]\n",
    "catch BoundsError\n",
    "    println(\"No no, a[1]=\", a[1], \" \", a[end] == a[3] == 3)\n",
    "end\n",
    "\n",
    "collect(1:10)[10] == 10"
   ]
  },
  {
   "cell_type": "code",
   "execution_count": null,
   "metadata": {
    "collapsed": false
   },
   "outputs": [],
   "source": [
    "# complex numbers\n",
    "complex(1, 1) == 1 + 1im"
   ]
  },
  {
   "cell_type": "code",
   "execution_count": null,
   "metadata": {
    "collapsed": false
   },
   "outputs": [],
   "source": [
    "# Convenience\n",
    "x = 4\n",
    "y = 2x  # no *\n",
    "y == 8"
   ]
  },
  {
   "cell_type": "code",
   "execution_count": null,
   "metadata": {
    "collapsed": false
   },
   "outputs": [],
   "source": [
    "# More convenience. Save one \"for\"\n",
    "[(i, j) for i in 1:4, j in \"abcd\"]"
   ]
  },
  {
   "cell_type": "code",
   "execution_count": null,
   "metadata": {
    "collapsed": false
   },
   "outputs": [],
   "source": [
    "# The arrays are column majored. In particular vector is a column vector\n",
    "a = [1, 2, 3]"
   ]
  },
  {
   "cell_type": "code",
   "execution_count": null,
   "metadata": {
    "collapsed": false
   },
   "outputs": [],
   "source": [
    "# Contrast this with Python\n",
    "A = reshape(collect(1:25), (5, 5))"
   ]
  },
  {
   "cell_type": "code",
   "execution_count": null,
   "metadata": {
    "collapsed": false
   },
   "outputs": [],
   "source": [
    "# In numpy you get to iterate over rows of matrix (for vectorization). In Julia this is not default. \n",
    "entries = [e for e in A]  #join(map(string, collect(A)), \", \")\n",
    "# Moverover, columns are contiguous so accessing rows is not efficient.\n",
    "# Finaly you iterate over values not pointers\n",
    "for a in A\n",
    "    a += 1\n",
    "end\n",
    "A"
   ]
  },
  {
   "cell_type": "code",
   "execution_count": null,
   "metadata": {
    "collapsed": false
   },
   "outputs": [],
   "source": [
    "# Column majored linear indexing\n",
    "A[8] == 8"
   ]
  },
  {
   "cell_type": "markdown",
   "metadata": {},
   "source": [
    "Now onto functions. Recall that you have already seen lambas `x -> 2x`"
   ]
  },
  {
   "cell_type": "code",
   "execution_count": null,
   "metadata": {
    "collapsed": false
   },
   "outputs": [],
   "source": [
    "# Multiline lambdas\n",
    "map(f -> begin\n",
    "    name, ext = splitext(f)\n",
    "    uppercase(name)*uppercase(ext)^2\n",
    "    end, readdir(\".\"))"
   ]
  },
  {
   "cell_type": "code",
   "execution_count": null,
   "metadata": {
    "collapsed": false
   },
   "outputs": [],
   "source": [
    "# One lined named function definition\n",
    "f(x, y) = 2x + 4y\n",
    "f(1, 0) == 2"
   ]
  },
  {
   "cell_type": "code",
   "execution_count": null,
   "metadata": {
    "collapsed": false
   },
   "outputs": [],
   "source": [
    "# Implicit return statements\n",
    "function f(name)\n",
    "    if isequal(name, \"Miro\")\n",
    "        return \"slav\"\n",
    "    end\n",
    "    \"!\"\n",
    "end\n",
    "\n",
    "(f(\"Miro\"), f(\"You\")) == (\"slav\", \"!\")"
   ]
  },
  {
   "cell_type": "code",
   "execution_count": null,
   "metadata": {
    "collapsed": false
   },
   "outputs": [],
   "source": [
    "# Variable positional arguments\n",
    "mysum(args...) = join(map(string, args), \"+\")\n",
    "mysum(10, 20)"
   ]
  },
  {
   "cell_type": "code",
   "execution_count": null,
   "metadata": {
    "collapsed": false
   },
   "outputs": [],
   "source": [
    "# Keyword arguments. Not a dictionary\n",
    "function foo(args...; kwargs...)\n",
    "    kwargs = Dict([k => v for (k, v) in kwargs])\n",
    "    ans = join(map(string, args), \"?\")\n",
    "    if haskey(kwargs, :x)  # Ignore :x for a while. It comes from the 'strange' kwargs array\n",
    "        ans = ans * \"?\" * string(kwargs[:x])\n",
    "    end\n",
    "    ans \n",
    "end\n",
    "foo(10, 20, x=40)"
   ]
  },
  {
   "cell_type": "markdown",
   "metadata": {},
   "source": [
    "## WHEN IT _IS_ PYTHON"
   ]
  },
  {
   "cell_type": "markdown",
   "metadata": {},
   "source": [
    "+ Not entirely sure about giving up Python? What if you could use Julia with Python to make the transition easier?\n",
    "+ The whole Python ecosystem can be reached via Pkg __PyCall__"
   ]
  },
  {
   "cell_type": "code",
   "execution_count": null,
   "metadata": {
    "collapsed": true
   },
   "outputs": [],
   "source": [
    "using PyCall"
   ]
  },
  {
   "cell_type": "code",
   "execution_count": null,
   "metadata": {
    "collapsed": false
   },
   "outputs": [],
   "source": [
    "# Let's load numpy and have it compute for us the eigenvalues of some matrix\n",
    "@pyimport numpy.linalg as npla\n",
    "A = diagm([1, 2, 3, 4])          # Julia matrix\n",
    "eigv, eigw = npla.eig(A)         # Passed to python no copying\n",
    "eigv                             # The result is Julia Array"
   ]
  },
  {
   "cell_type": "code",
   "execution_count": null,
   "metadata": {
    "collapsed": false
   },
   "outputs": [],
   "source": [
    "# Let's have numpy make the matrix and then Julia takes over for the actual work\n",
    "@pyimport numpy as np\n",
    "Apy = np.diag([1, 2, 3, 4])  # Note that this is Julia array passed to Numpy which comes back as a Julia matrix\n",
    "eigvals(Apy)"
   ]
  },
  {
   "cell_type": "code",
   "execution_count": null,
   "metadata": {
    "collapsed": false
   },
   "outputs": [],
   "source": [
    "# Julia has native packages for plotting, but why give up matplotlib\n",
    "@pyimport matplotlib.pyplot as plt\n",
    "\n",
    "x = linspace(-1, 1, 100)\n",
    "y = sin(2π*x)\n",
    "plt.figure()\n",
    "plt.plot(x, y)\n",
    "plt.xlabel(\"\\$x\\$\")  # Note that dollars have to be escaped for they have special role in Julia's string (interpolation)\n",
    "plt.show()"
   ]
  },
  {
   "cell_type": "markdown",
   "metadata": {},
   "source": [
    "Note that you can have a jupyter notebook running Python kernel, import Julia as a module and let the two languages play along nicely."
   ]
  },
  {
   "cell_type": "markdown",
   "metadata": {},
   "source": [
    "## WHEN IT _IS NOT_ PYTHON / REASONS FOR SPEED\n",
    "\n",
    "I do not know/understand the whole story. It seems magical. That said, let me quote the Julia manual:\n",
    "\n",
    "> Clever application of sufficiently advanced technology can be indistiguishable from magic (A.C. Clarke)"
   ]
  },
  {
   "cell_type": "code",
   "execution_count": null,
   "metadata": {
    "collapsed": false
   },
   "outputs": [],
   "source": [
    "#Your code is parsed, type annotated(types can be inferred). \n",
    "simplef(x, y) = x+y\n",
    "@code_warntype simplef(1, 2)   # Note x, y have types here"
   ]
  },
  {
   "cell_type": "code",
   "execution_count": null,
   "metadata": {
    "collapsed": false
   },
   "outputs": [],
   "source": [
    "# When f is called with specific values JIT compiles the function. With type annotation the compiler can reason about\n",
    "# the code and generate efficient code.\n",
    "@code_llvm simplef(1, 2)        # Note @julia_simplef_FOO(i64, i64)"
   ]
  },
  {
   "cell_type": "code",
   "execution_count": null,
   "metadata": {
    "collapsed": false
   },
   "outputs": [],
   "source": [
    "# If called with values of same type. We get a cached function\n",
    "@code_llvm simplef(1, 2)        # Note @julia_simplef_FOO(i64, i64)"
   ]
  },
  {
   "cell_type": "code",
   "execution_count": null,
   "metadata": {
    "collapsed": false
   },
   "outputs": [],
   "source": [
    "# Different value types will invoke JIT again\n",
    "@code_llvm simplef(1, 2.)        # @julia_simplef_BAR(i64, double)"
   ]
  },
  {
   "cell_type": "markdown",
   "metadata": {},
   "source": [
    "## CALLING C"
   ]
  },
  {
   "cell_type": "markdown",
   "metadata": {},
   "source": [
    "## METAPROGRAMMING"
   ]
  },
  {
   "cell_type": "markdown",
   "metadata": {},
   "source": [
    "## BATTERIES INCLUDED\n",
    "\n",
    "+ Julia has very large scientific stack, e.g. FFT (FFTW by Steven G. Johnson), LA(LAPACK, BLAS, SuiteSparse), statistics\n",
    "+ Native plotting, e.g. _Gadfly_ package\n",
    "+ You can use Python modules(`PyCall`), existing C/Fortran libraries(`ccall`)\n",
    "+ Opportunity to write missing packages!"
   ]
  },
  {
   "cell_type": "code",
   "execution_count": null,
   "metadata": {
    "collapsed": false
   },
   "outputs": [],
   "source": [
    "@pyimport scipy.fftpack as pyfft\n",
    "# Show that FFT works\n",
    "v = rand(20)\n",
    "\n",
    "fft_jl = FFTW.r2r(v, [FFTW.REDFT10])\n",
    "fft_py = pyfft.dct(v)\n",
    "\n",
    "norm(fft_jl - fft_py)"
   ]
  },
  {
   "cell_type": "code",
   "execution_count": null,
   "metadata": {
    "collapsed": false
   },
   "outputs": [],
   "source": [
    "# Native plotting with Gadfly\n",
    "using Gadfly\n",
    "plot(y=fft_jl)"
   ]
  },
  {
   "cell_type": "code",
   "execution_count": 11,
   "metadata": {
    "collapsed": false
   },
   "outputs": [
    {
     "name": "stdout",
     "output_type": "stream",
     "text": [
      "0.0"
     ]
    },
    {
     "data": {
      "text/html": [
       "factorize(S::<b>SymTridiagonal{T}</b>) at <a href=\"https://github.com/JuliaLang/julia/tree/1a9429ee5e240e478f0240a31629f9de75338690/base/linalg/ldlt.jl#L46\" target=\"_blank\">linalg/ldlt.jl:46</a>"
      ],
      "text/plain": [
       "factorize(S::SymTridiagonal{T}) at linalg/ldlt.jl:46"
      ]
     },
     "execution_count": 11,
     "metadata": {},
     "output_type": "execute_result"
    },
    {
     "name": "stdout",
     "output_type": "stream",
     "text": [
      "05742739384431261\n",
      "0.00406087309076182\n",
      "0.002871496220147093\n",
      "0.0020304589269507247\n",
      "0.0014357520673215604\n",
      "0.0010152301641646005\n",
      "0.0007178761457711251\n"
     ]
    }
   ],
   "source": [
    "# Linear algebra. The favourite Poisson problem on UnitInterval. Convergence\n",
    "A = 0  # Keep A outside for loop\n",
    "for ncells in [2^i for i in 8:14]\n",
    "    h = 1/ncells\n",
    "    x = Float64[h*i for i in 0:ncells]\n",
    "    F = sin(2π*x)\n",
    "    U = sin(2π*x)/4/π^2\n",
    "    \n",
    "    # Based on type of A specialized solver will be called\n",
    "    A = SymTridiagonal(fill(2, ncells+1), fill(-1, ncells))/h\n",
    "    b = h*F\n",
    "\n",
    "    u = A\\b\n",
    "    e = norm(u - U)\n",
    "    println(e)\n",
    "end\n",
    "\n",
    "# Which factorize was dispatched\n",
    "@which factorize(A)"
   ]
  },
  {
   "cell_type": "code",
   "execution_count": 12,
   "metadata": {
    "collapsed": false
   },
   "outputs": [
    {
     "name": "stdout",
     "output_type": "stream",
     "text": [
      "System size 9, lmin=5.396945915394443\n",
      "System size 17, lmin=3.094555556451626\n",
      "System size 33, lmin=1.4650779232335207\n",
      "System size 65, lmin=0.6797474241796966\n",
      "System size 129, lmin=0.32442205306690397\n",
      "System size 257, lmin=0.1582254302874535\n",
      "System size 513, lmin=0.07811004502728203\n",
      "System size 1025, lmin=0.03880408264532953\n",
      "System size 2049, lmin=0.01933930544917395\n"
     ]
    }
   ],
   "source": [
    "# And now the eigenvalues. Convergence\n",
    "for ncells in [2^i for i in 3:11]\n",
    "    h = 1/ncells\n",
    "    x = Float64[h*i for i in 0:ncells]\n",
    "\n",
    "    A = SymTridiagonal(fill(2, ncells+1), fill(-1, ncells))/h\n",
    "    M = SymTridiagonal([1.; fill(4h/6, ncells-1); 1.], fill(h/6, ncells))\n",
    "    eigw, eigv = eig(full(A), full(M))\n",
    "    lmin = minimum(eigw)\n",
    "    println(\"System size $(length(eigw)), lmin=$(abs(lmin-π^2))\")\n",
    "end"
   ]
  },
  {
   "cell_type": "markdown",
   "metadata": {},
   "source": [
    "## ADDITIONAL RESOURCES\n",
    "\n",
    "+ Wikibook [__Introducing Julia__](https://en.wikibooks.org/wiki/Introducing_Julia)  \n",
    "+ [__Julia manual__](http://docs.julialang.org/en/release-0.4/) from the homepage\n",
    "+ YouTube videos\n",
    "    - Introduction [Steven Johnson](https://www.youtube.com/watch?v=jhlVHoeB05A) @ EuroScipy\n",
    "    - Introduction [Alan Edelman](https://www.youtube.com/watch?v=37L1OMk_3FU) @ MIT\n",
    "    - Some metaprogramming [Jeff Bezanson, Stefan Karpinski](https://www.youtube.com/watch?v=pZTqMSM2ksY) @ Curry On\n",
    "    - Julia + Python [Stefan Karpinksi](https://www.youtube.com/watch?v=PsjANO10KgM)@ PyDATA\n",
    "    - ... and plenty others from [JuliaCon](http://juliacon.org/). See Julia's [YouTube](https://www.youtube.com/user/JuliaLanguage/videos) channel.\n",
    "+ Blog posts (mostly metaprogramming)\n",
    "    - [John Myles White](http://www.johnmyleswhite.com/notebook/category/julia/)\n",
    "    - [Gray Calhoun](http://gray.clhn.org/blog/julia-macros/)\n",
    "+ Source code on [GitHub](https://github.com/JuliaLang/julia)"
   ]
  }
 ],
 "metadata": {
  "celltoolbar": "Raw Cell Format",
  "kernelspec": {
   "display_name": "Julia 0.4.4-pre",
   "language": "julia",
   "name": "julia-0.4"
  },
  "language_info": {
   "file_extension": ".jl",
   "mimetype": "application/julia",
   "name": "julia",
   "version": "0.4.4"
  }
 },
 "nbformat": 4,
 "nbformat_minor": 0
}
