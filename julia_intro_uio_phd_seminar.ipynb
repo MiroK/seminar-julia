{
 "cells": [
  {
   "cell_type": "markdown",
   "metadata": {},
   "source": [
    "# INTRODUCTION TO JULIA\n",
    "\n",
    "## Warning\n",
    "\n",
    "+ Setting: Phd seminar in Prague 2011. MK talks about _FEniCS_. Wrongly, people fall asleep. __FEniCS is awesome__.\n",
    "+ Setting: Phd seminar in Oslo 2016. MK talks about _Julia_. ???. __Julia is awesome__."
   ]
  },
  {
   "cell_type": "markdown",
   "metadata": {},
   "source": [
    "## SETUP\n",
    "\n",
    "+ Ubuntu package from the repository\n",
    "```\n",
    "sudo add-apt-repository ppa:staticfloat/juliareleases\n",
    "sudo add-apt-repository ppa:staticfloat/julia-deps\n",
    "sudo apt-get update\n",
    "sudo apt-get install julia\n",
    "```\n",
    "+ [Download](http://julialang.org/downloads/) Binaries (all platforms)\n",
    "+ Build from source code\n",
    "```\n",
    "git clone https://github.com/JuliaLang/julia.git\n",
    "cd julia\n",
    "git checkout release-0.4  # unless you want the latest master\n",
    "make -j 4\n",
    "```\n",
    "+ Try Julia in your browser via [JuliaBox](https://www.juliabox.org/). No installation but Google account required\n"
   ]
  },
  {
   "cell_type": "markdown",
   "metadata": {},
   "source": [
    "## INTERACTION & SNEAK PEEK\n",
    "\n",
    "Some modes of interacting with Julia:\n",
    "+ REPL (go to terminal)\n",
    "    - Julian mode, help mode(?), shell mode(;)\n",
    "    - ! `edit`\n",
    "+ text editor + command line\n",
    "    - ! Hello world\n",
    "+ Jupyter notebook\n",
    "    - From inside Julia run `Pkg.add(\"IJulia\")`. This gives you Julia kernel that the notebook can talk to\n",
    "    - This is the notebok :)"
   ]
  },
  {
   "cell_type": "code",
   "execution_count": null,
   "metadata": {
    "collapsed": false
   },
   "outputs": [],
   "source": [
    "# Here is another feature - a built in package manager\n",
    "installed_packages = Pkg.installed()\n",
    "# len tab\n",
    "length(installed_packages)"
   ]
  },
  {
   "cell_type": "code",
   "execution_count": null,
   "metadata": {
    "collapsed": false
   },
   "outputs": [],
   "source": [
    "haskey(installed_packages, \"IJulia\")"
   ]
  },
  {
   "cell_type": "code",
   "execution_count": null,
   "metadata": {
    "collapsed": false
   },
   "outputs": [],
   "source": [
    "# Some unicode\n",
    "a = 1:10;\n",
    "1 ∈ a"
   ]
  },
  {
   "cell_type": "code",
   "execution_count": null,
   "metadata": {
    "collapsed": false
   },
   "outputs": [],
   "source": [
    "b = 4:20;\n",
    "a ∩ b"
   ]
  },
  {
   "cell_type": "code",
   "execution_count": null,
   "metadata": {
    "collapsed": false
   },
   "outputs": [],
   "source": [
    "# Explore: Docstring contains the query\n",
    "apropos(\"eigenvalues\")"
   ]
  },
  {
   "cell_type": "markdown",
   "metadata": {},
   "source": [
    "## WHAT IS IT?\n",
    "+ Julia: A fresh approach to numerical computing, see [paper](http://arxiv.org/abs/1411.1607)\n",
    "+ High level, dynamic, (dynamically) typed, general purpose language\n",
    "+ Free and open-source. MIT licence\n",
    "+ Went [viral](https://www.google.com/trends/explore#q=julia%20language) on Valentine's day 2014\n",
    "+ Some features we will see in action today\n",
    "    - type inference\n",
    "    - JIT compiler\n",
    "    - rich typestem\n",
    "    - multiple dispatch\n",
    "    - zero overhead C/Fortran calls (__CXX.jl__ offers some support for calling C++)\n",
    "    - metaprogramming (only briefly)\n",
    "+ An important feature missing today is _built in parallelism_"
   ]
  },
  {
   "cell_type": "markdown",
   "metadata": {},
   "source": [
    "## WHY DO WE NEED YET ANOTHER LANGUAGE?\n",
    "\n",
    "Short answer - to address the two language paradygm\n",
    "+ Express the idea in high level language(Python) - setup prototype quickly. Performance far from production code\n",
    "+ Production code then written in low level language (C/C++)\n",
    "+ Write performance critical parts of code in low level language and glue together (Numba, SWIG)\n",
    "    - FEniCS uses Python to generate C++ code that is compiled and wrapped for Python\n",
    "    - Diako/Mikael prototype in Python/NumPy and then write the same code in Cython\n",
    "+ To extend NumPy/SciPy you (usually) have to write C"
   ]
  },
  {
   "cell_type": "markdown",
   "metadata": {},
   "source": [
    "Julia's approach\n",
    "+ Designed to be easy to write with performance close to C\n",
    "+ If that is true you need one language to solve your problem\n",
    "+ It seems to be true"
   ]
  },
  {
   "cell_type": "raw",
   "metadata": {},
   "source": [
    "              |     F|Julia |Python\t|R      |Matlab\t|Octave\t    |Mathm\t|JS\t    |Go\t    |LuaJIT\t|Java\n",
    "--------------|------|------|-------|-------|-------|-----------|-------|-------|-------|-------|----    \n",
    "fib\t          |0.70  |2.11\t|77.76\t|533.52\t|26.89\t|9324.35\t|118.53\t|3.36\t|1.86\t|1.71\t|1.21\n",
    "parse_int\t  |5.05\t |1.45\t|17.02\t|45.73\t|802.52\t|9581.44\t|15.02\t|6.06\t|1.20\t|5.77\t|3.35\n",
    "quicksort\t  |1.31\t |1.15\t|32.89\t|264.54\t|4.92\t|1866.01\t|43.23\t|2.70\t|1.29\t|2.03\t|2.60\n",
    "mandel\t      |0.81\t |0.79\t|15.32\t|53.16\t|7.58\t|451.81\t    |5.13\t|0.66\t|1.11\t|0.67\t|1.35\n",
    "pi_sum\t      |1.00\t |1.00\t|21.99\t|9.56\t|1.00\t|299.31\t    |1.69\t|1.01\t|1.00\t|1.00\t|1.00\n",
    "rand_mat_stat |1.45\t |1.66\t|17.93\t|14.56\t|14.52\t|30.93\t    |5.95\t|2.30\t|2.96\t|3.27\t|3.92\n",
    "rand_mat_mul  |3.48\t |1.02\t|1.14\t|1.57\t|1.12\t|1.12\t    |1.30\t|15.07\t|1.42\t|1.16\t|2.36"
   ]
  },
  {
   "cell_type": "markdown",
   "metadata": {
    "collapsed": true
   },
   "source": [
    "### Some benchmark problems of our own"
   ]
  },
  {
   "cell_type": "markdown",
   "metadata": {},
   "source": [
    "### Project Euler problem 14. \n",
    "The following iterative sequence is defined for the set of positive integers:\n",
    "\n",
    "+ n → n/2 (n is even)\n",
    "+ n → 3n + 1 (n is odd)\n",
    "\n",
    "Using the rule above and starting with 13, we generate the following sequence: 13 → 40 → 20 → 10 → 5 → 16 → 8 → 4 → 2 → 1. Which starting number, under one million, produces the longest chain? Note that whether the chain terminates for arbitrary $n$ is an unproved conjecture.\n",
    "\n",
    "+ To solve PE problem's the solution must be obtained in less then 60s. Honor code is to beat 1s.\n",
    "+ Note that the code presented here is not optimal. It is rather a brute force solution.\n",
    "+ The answer it produces is correct"
   ]
  },
  {
   "cell_type": "code",
   "execution_count": null,
   "metadata": {
    "collapsed": false
   },
   "outputs": [],
   "source": [
    "\"\"\"Compute the Collatz chain for number n.\"\"\"\n",
    "function collatz_chain(n)\n",
    "    k = 1\n",
    "    while n > 1\n",
    "        n = isodd(n) ? 3n+1 : n >> 1\n",
    "        k += 1\n",
    "        # println(n)\n",
    "    end\n",
    "    k\n",
    "end\n",
    "\n",
    "\"\"\"Which of the number [1, stop) has the longest Collatz chain.\"\"\"\n",
    "function solve_euler(stop)\n",
    "    n, N, N_max = 1, 0, 0  \n",
    "    while n < stop\n",
    "        value = collatz_chain(n)\n",
    "        if value > N_max\n",
    "            N = n\n",
    "            N_max = value\n",
    "        end\n",
    "        n += 1\n",
    "    end\n",
    "    (N, N_max)\n",
    "end"
   ]
  },
  {
   "cell_type": "code",
   "execution_count": null,
   "metadata": {
    "collapsed": false
   },
   "outputs": [],
   "source": [
    "# Let's time it\n",
    "N = 1000000\n",
    "t0 = tic()\n",
    "answer = solve_euler(N)\n",
    "t1 = toc();\n",
    "answer, t1"
   ]
  },
  {
   "cell_type": "markdown",
   "metadata": {
    "collapsed": true
   },
   "source": [
    "Julia is done in about 0.3s, Python need 12s. So with Julia I am onto the next problem. With Python it is back to the drawing board."
   ]
  },
  {
   "cell_type": "markdown",
   "metadata": {
    "collapsed": true
   },
   "source": [
    "### Julia fractal\n",
    "+ It is only approprate that we explore the Julia set\n",
    "+ Explore points $z$ in the complex plain such that $z_{n+1}=z^2_{n}+c$ is bounded for any n"
   ]
  },
  {
   "cell_type": "code",
   "execution_count": null,
   "metadata": {
    "collapsed": false
   },
   "outputs": [],
   "source": [
    "# Julia code is a translation of the definition\n",
    "\"\"\"Color Julia set. Code from https://www.youtube.com/watch?v=PsjANO10KgM\"\"\"\n",
    "function julia(z, c)\n",
    "    for n in 1:80\n",
    "        if abs2(z) > 4\n",
    "            return n-1\n",
    "        end\n",
    "        z = z*z + c\n",
    "    end\n",
    "    return 80\n",
    "end\n",
    "\n",
    "\"\"\"Color Julia set. Prealoc version\"\"\"\n",
    "function julia(x, y, c)\n",
    "    J = zeros(length(x), length(y))\n",
    "    index = 0\n",
    "    for r in y, i in x\n",
    "        index += 1\n",
    "        J[index] = julia(complex(r, i), c);\n",
    "    end\n",
    "    J\n",
    "end"
   ]
  },
  {
   "cell_type": "code",
   "execution_count": null,
   "metadata": {
    "collapsed": false
   },
   "outputs": [],
   "source": [
    "# We explore a few points\n",
    "cs = (complex(-0.06, 0.67), complex(0.279, 0), complex(-0.4, 0.6), complex(0.285, 0.01))\n",
    "\n",
    "x = collect(1:-0.002:-1);\n",
    "y = collect(-1.5:0.002:1.5);\n",
    "\n",
    "Js = []\n",
    "# Evaluate fractal generation\n",
    "t0 = tic()\n",
    "for c in cs\n",
    "    push!(Js, [julia(complex(r, i), c) for i in x, r in y]);\n",
    "    #push!(Js, julia(x, y, c));\n",
    "end\n",
    "t1 = toc()\n",
    "\n",
    "@printf(\"Generated in %.4f s\\n\", t1);\n",
    "println(\"Image size $(size(Js[1], 1))x$(size(Js[1], 2))\")"
   ]
  },
  {
   "cell_type": "code",
   "execution_count": null,
   "metadata": {
    "collapsed": false
   },
   "outputs": [],
   "source": [
    "# Here we use python interopt(more on that later) to plot the fractals\n",
    "using PyCall\n",
    "@pyimport matplotlib.pyplot as plt\n",
    "\n",
    "for J in Js\n",
    "    plt.figure()\n",
    "    plt.imshow(J, cmap=\"viridis\", extent=[-1.5, 1.5, -1, 1])\n",
    "end\n",
    "plt.show()"
   ]
  },
  {
   "cell_type": "markdown",
   "metadata": {},
   "source": [
    "About 4 seconds is required to make the fractals by list comprehensions. This is slower then Python which takes about 2.8. However the speed there comes from clever vectorization. And don't worry the code above can be made faster. If the image is prealocated and filled column by column, see `julia(x, y, c)`, the fractals are generated in 0.4s. Note that at this point we have two `julia` methods. Which one gets called when the code is run is our first encounter with _multiple dispatch_."
   ]
  },
  {
   "cell_type": "markdown",
   "metadata": {},
   "source": [
    "## WHEN IT READS LIKE PYTHON\n",
    "\n",
    "+ Illustrate (not unrealistic) workflow by a made example of postprocessing \n",
    "+ Note that this is high-level: there are lambdas `x -> x + 1`, higher order functions, containers\n",
    "+ No type declarations"
   ]
  },
  {
   "cell_type": "code",
   "execution_count": null,
   "metadata": {
    "collapsed": false
   },
   "outputs": [],
   "source": [
    "# Read the content on the directory and keep only the files\n",
    "files = filter(isfile, readdir(\".\"))"
   ]
  },
  {
   "cell_type": "code",
   "execution_count": null,
   "metadata": {
    "collapsed": false
   },
   "outputs": [],
   "source": [
    "# How many of the files are Julia files\n",
    "n_jl_files = count(f -> endswith(f, \".jl\"), files)\n",
    "println(\"$(pwd()) contains $(n_jl_files) files.\")"
   ]
  },
  {
   "cell_type": "code",
   "execution_count": null,
   "metadata": {
    "collapsed": false
   },
   "outputs": [],
   "source": [
    "# Get those files and print them\n",
    "jl_files = files[find(f -> endswith(f, \".jl\"), files)]\n",
    "for (i, file) in enumerate(jl_files)\n",
    "    println(\"Julia file $(file)\")\n",
    "end"
   ]
  },
  {
   "cell_type": "code",
   "execution_count": null,
   "metadata": {
    "collapsed": false
   },
   "outputs": [],
   "source": [
    "# We have seen Array container. Let's show Sets\n",
    "jl_files2 = append!(jl_files, jl_files)\n",
    "jl_set = Set(jl_files2)\n",
    "println(\"$(pwd()) contains $(length(jl_set)) files.\")"
   ]
  },
  {
   "cell_type": "code",
   "execution_count": null,
   "metadata": {
    "collapsed": false
   },
   "outputs": [],
   "source": [
    "# Reading from file. How many words in the MIT licence?\n",
    "LICENCE = open(\"LICENSE\")\n",
    "content = lowercase(readall(LICENCE))\n",
    "words = split(content, r\"\\W\", keep=false)\n",
    "close(LICENCE)\n",
    "length(words)"
   ]
  },
  {
   "cell_type": "code",
   "execution_count": null,
   "metadata": {
    "collapsed": false
   },
   "outputs": [],
   "source": [
    "# We could have done this with bash. Show shell interopt\n",
    "cmd = pipeline(`cat LICENSE`, `wc -w`)\n",
    "run(cmd)  # 172 vs 171, less than 1% error is okay:)"
   ]
  },
  {
   "cell_type": "code",
   "execution_count": null,
   "metadata": {
    "collapsed": false
   },
   "outputs": [],
   "source": [
    "# Count them with multiplicity\n",
    "unique = Dict()\n",
    "for word in words\n",
    "    unique[word] = get(unique, word, 0) + 1\n",
    "end"
   ]
  },
  {
   "cell_type": "code",
   "execution_count": null,
   "metadata": {
    "collapsed": false
   },
   "outputs": [],
   "source": [
    "# Most common ones\n",
    "for (k, v) in sort(collect(unique), by=last, rev=true)\n",
    "    println(\"$(k) $(v)\")\n",
    "end"
   ]
  },
  {
   "cell_type": "markdown",
   "metadata": {},
   "source": [
    "## SOME DIFFERENCES FROM PYTHON\n",
    "\n",
    "A few examples where the behaviour from Python is different"
   ]
  },
  {
   "cell_type": "code",
   "execution_count": null,
   "metadata": {
    "collapsed": false
   },
   "outputs": [],
   "source": [
    "# : is => in the dictionary construction\n",
    "dict = Dict(1 => \"Miro\", 2 => \"Kuchta\")"
   ]
  },
  {
   "cell_type": "code",
   "execution_count": null,
   "metadata": {
    "collapsed": false
   },
   "outputs": [],
   "source": [
    "# in checks for (key, value) pair\n",
    "haskey(dict, 1), (1 => \"Miro\") ∈ dict"
   ]
  },
  {
   "cell_type": "code",
   "execution_count": null,
   "metadata": {
    "collapsed": false
   },
   "outputs": [],
   "source": [
    "# iteration is over (key, values) pairs\n",
    "for (key, value) in dict\n",
    "    println(\"$key => $value\")\n",
    "end"
   ]
  },
  {
   "cell_type": "code",
   "execution_count": null,
   "metadata": {
    "collapsed": false
   },
   "outputs": [],
   "source": [
    "# String concatenation is done with *. With + the operation should be commutative, which is not the case here\n",
    "\"Julia \" * \" Language\""
   ]
  },
  {
   "cell_type": "code",
   "execution_count": null,
   "metadata": {
    "collapsed": false
   },
   "outputs": [],
   "source": [
    "# / is for floating point division. Integer division is done by div\n",
    "/(7, 4), div(7, 4)"
   ]
  },
  {
   "cell_type": "code",
   "execution_count": null,
   "metadata": {
    "collapsed": false
   },
   "outputs": [],
   "source": [
    "# Indexing starts at one. The last element in range is included\n",
    "a = [1, 2, 3]\n",
    "try\n",
    "    a[0]\n",
    "catch BoundsError\n",
    "    println(\"No no, a[1]=\", a[1], \" \", a[end] == a[3] == 3)\n",
    "end\n",
    "\n",
    "collect(1:10)[10] == 10"
   ]
  },
  {
   "cell_type": "code",
   "execution_count": null,
   "metadata": {
    "collapsed": false
   },
   "outputs": [],
   "source": [
    "# complex numbers\n",
    "complex(1, 1) == 1 + 1im"
   ]
  },
  {
   "cell_type": "code",
   "execution_count": null,
   "metadata": {
    "collapsed": false
   },
   "outputs": [],
   "source": [
    "# Convenience\n",
    "x = 4\n",
    "y = 2x  # no *\n",
    "y == 8"
   ]
  },
  {
   "cell_type": "code",
   "execution_count": null,
   "metadata": {
    "collapsed": false
   },
   "outputs": [],
   "source": [
    "# More convenience. Save one \"for\"\n",
    "[(i, j) for i in 1:4, j in \"abcd\"]"
   ]
  },
  {
   "cell_type": "code",
   "execution_count": null,
   "metadata": {
    "collapsed": false
   },
   "outputs": [],
   "source": [
    "# The arrays are column majored. In particular vector is a column vector\n",
    "a = [1, 2, 3]"
   ]
  },
  {
   "cell_type": "code",
   "execution_count": null,
   "metadata": {
    "collapsed": false
   },
   "outputs": [],
   "source": [
    "# Contrast this with Python\n",
    "A = reshape(collect(1:25), (5, 5))"
   ]
  },
  {
   "cell_type": "code",
   "execution_count": null,
   "metadata": {
    "collapsed": false
   },
   "outputs": [],
   "source": [
    "# In numpy you get to iterate over rows of matrix (for vectorization). In Julia this is not default. \n",
    "entries = [e for e in A]  #join(map(string, collect(A)), \", \")\n",
    "# Moverover, columns are contiguous so accessing rows is not efficient.\n",
    "# Finaly you iterate over values not pointers\n",
    "for a in A\n",
    "    a += 1\n",
    "end\n",
    "A"
   ]
  },
  {
   "cell_type": "code",
   "execution_count": null,
   "metadata": {
    "collapsed": false
   },
   "outputs": [],
   "source": [
    "# Column majored linear indexing\n",
    "A[8] == 8"
   ]
  },
  {
   "cell_type": "markdown",
   "metadata": {},
   "source": [
    "Now onto functions. Recall that you have already seen lambas `x -> 2x`"
   ]
  },
  {
   "cell_type": "code",
   "execution_count": null,
   "metadata": {
    "collapsed": false
   },
   "outputs": [],
   "source": [
    "# Multiline lambdas\n",
    "map(f -> begin\n",
    "    name, ext = splitext(f)\n",
    "    uppercase(name)*uppercase(ext)^2\n",
    "    end, readdir(\".\"))"
   ]
  },
  {
   "cell_type": "code",
   "execution_count": null,
   "metadata": {
    "collapsed": false
   },
   "outputs": [],
   "source": [
    "# One lined named function definition\n",
    "f(x, y) = 2x + 4y\n",
    "f(1, 0) == 2"
   ]
  },
  {
   "cell_type": "code",
   "execution_count": null,
   "metadata": {
    "collapsed": false
   },
   "outputs": [],
   "source": [
    "# Implicit return statements\n",
    "function f(name)\n",
    "    if isequal(name, \"Miro\")\n",
    "        return \"slav\"\n",
    "    end\n",
    "    \"!\"\n",
    "end\n",
    "\n",
    "(f(\"Miro\"), f(\"You\")) == (\"slav\", \"!\")"
   ]
  },
  {
   "cell_type": "code",
   "execution_count": null,
   "metadata": {
    "collapsed": false
   },
   "outputs": [],
   "source": [
    "# Variable positional arguments\n",
    "mysum(args...) = join(map(string, args), \"+\")\n",
    "mysum(10, 20)"
   ]
  },
  {
   "cell_type": "code",
   "execution_count": null,
   "metadata": {
    "collapsed": false
   },
   "outputs": [],
   "source": [
    "# Keyword arguments. Not a dictionary\n",
    "function foo(args...; kwargs...)\n",
    "    kwargs = Dict([k => v for (k, v) in kwargs])\n",
    "    ans = join(map(string, args), \"?\")\n",
    "    if haskey(kwargs, :x)  # Ignore :x for a while. It comes from the 'strange' kwargs array\n",
    "        ans = ans * \"?\" * string(kwargs[:x])\n",
    "    end\n",
    "    ans \n",
    "end\n",
    "foo(10, 20, x=40)"
   ]
  },
  {
   "cell_type": "markdown",
   "metadata": {},
   "source": [
    "## WHEN IT _IS_ PYTHON"
   ]
  },
  {
   "cell_type": "markdown",
   "metadata": {},
   "source": [
    "+ Not entirely sure about giving up Python? What if you could use Julia with Python to make the transition easier?\n",
    "+ The whole Python ecosystem can be reached via Pkg __PyCall__"
   ]
  },
  {
   "cell_type": "code",
   "execution_count": null,
   "metadata": {
    "collapsed": true
   },
   "outputs": [],
   "source": [
    "using PyCall"
   ]
  },
  {
   "cell_type": "code",
   "execution_count": null,
   "metadata": {
    "collapsed": false
   },
   "outputs": [],
   "source": [
    "# Let's load numpy and have it compute for us the eigenvalues of some matrix\n",
    "@pyimport numpy.linalg as npla\n",
    "A = diagm([1, 2, 3, 4])          # Julia matrix\n",
    "eigv, eigw = npla.eig(A)         # Passed to python no copying\n",
    "eigv                             # The result is Julia Array"
   ]
  },
  {
   "cell_type": "code",
   "execution_count": null,
   "metadata": {
    "collapsed": false
   },
   "outputs": [],
   "source": [
    "# Let's have numpy make the matrix and then Julia takes over for the actual work\n",
    "@pyimport numpy as np\n",
    "Apy = np.diag([1, 2, 3, 4])  # Note that this is Julia array passed to Numpy which comes back as a Julia matrix\n",
    "eigvals(Apy)"
   ]
  },
  {
   "cell_type": "code",
   "execution_count": null,
   "metadata": {
    "collapsed": false
   },
   "outputs": [],
   "source": [
    "# Julia has native packages for plotting, but why give up matplotlib\n",
    "@pyimport matplotlib.pyplot as plt\n",
    "\n",
    "x = linspace(-1, 1, 100)\n",
    "y = sin(2π*x)\n",
    "plt.figure()\n",
    "plt.plot(x, y)\n",
    "plt.xlabel(\"\\$x\\$\")  # Note that dollars have to be escaped for they have special role in Julia's string (interpolation)\n",
    "plt.show()"
   ]
  },
  {
   "cell_type": "markdown",
   "metadata": {},
   "source": [
    "Note that you can have a jupyter notebook running Python kernel, import Julia as a module and let the two languages play along nicely."
   ]
  },
  {
   "cell_type": "markdown",
   "metadata": {},
   "source": [
    "## WHEN IT _IS NOT_ PYTHON / REASONS FOR SPEED\n",
    "\n",
    "Warning: I do not know/understand the whole story. It seems magical. That said, let me quote the Julia manual:\n",
    "\n",
    "> Clever application of sufficiently advanced technology can be indistiguishable from magic (A. C. Clarke)"
   ]
  },
  {
   "cell_type": "markdown",
   "metadata": {},
   "source": [
    "### JIT and type inference"
   ]
  },
  {
   "cell_type": "code",
   "execution_count": null,
   "metadata": {
    "collapsed": false
   },
   "outputs": [],
   "source": [
    "#Your code is parsed, type annotated(types can be inferred). \n",
    "simplef(x, y) = x+y\n",
    "@code_warntype simplef(1, 2)   # Note x, y have types here"
   ]
  },
  {
   "cell_type": "code",
   "execution_count": null,
   "metadata": {
    "collapsed": false
   },
   "outputs": [],
   "source": [
    "# When f is called with specific values JIT compiles the function. With type annotation the compiler can reason about\n",
    "# the code and generate efficient code.\n",
    "@code_llvm simplef(1, 2)        # Note @julia_simplef_FOO(i64, i64)"
   ]
  },
  {
   "cell_type": "code",
   "execution_count": null,
   "metadata": {
    "collapsed": false
   },
   "outputs": [],
   "source": [
    "# If called with values of same type. We get a cached function\n",
    "@code_llvm simplef(1, 2)        # Note @julia_simplef_FOO(i64, i64)"
   ]
  },
  {
   "cell_type": "code",
   "execution_count": null,
   "metadata": {
    "collapsed": false
   },
   "outputs": [],
   "source": [
    "# Different value types will invoke JIT again\n",
    "@code_llvm simplef(1, 2.)        # @julia_simplef_BAR(i64, double)"
   ]
  },
  {
   "cell_type": "markdown",
   "metadata": {},
   "source": [
    "### Type system\n",
    "All values have types. You can type annotate your variables. This is not for performance. Rather, you declare your intensions better."
   ]
  },
  {
   "cell_type": "code",
   "execution_count": null,
   "metadata": {
    "collapsed": false
   },
   "outputs": [],
   "source": [
    "map(typeof, (1, 2., [1, 2]))"
   ]
  },
  {
   "cell_type": "code",
   "execution_count": null,
   "metadata": {
    "collapsed": false
   },
   "outputs": [],
   "source": [
    "# This reads as is lhs an instance of rhs\n",
    "1::Number, 1::Real, 1::Int"
   ]
  },
  {
   "cell_type": "code",
   "execution_count": null,
   "metadata": {
    "collapsed": false
   },
   "outputs": [],
   "source": [
    "# But \n",
    "try\n",
    "    1::Int8\n",
    "catch TypeError\n",
    "    println(\"Type of 1 is $(typeof(1)) and that is not a subtype of Int8\")\n",
    "end"
   ]
  },
  {
   "cell_type": "markdown",
   "metadata": {},
   "source": [
    "The type hierarchy is appearing."
   ]
  },
  {
   "cell_type": "code",
   "execution_count": null,
   "metadata": {
    "collapsed": false
   },
   "outputs": [],
   "source": [
    "depth = 0\n",
    "function printtypes(T)\n",
    "    global depth\n",
    "    if isleaftype(T)\n",
    "        println(\"-\"^(2*depth), \"$T\")\n",
    "    else\n",
    "        println(\"-\"^depth, \"$T\")\n",
    "        depth += 1\n",
    "        map(printtypes, subtypes(T))\n",
    "        depth -= 1\n",
    "    end\n",
    "end\n",
    "\n",
    "printtypes(Real);"
   ]
  },
  {
   "cell_type": "markdown",
   "metadata": {},
   "source": [
    "+ In the type tree the nodes are _abstract_ types and the leafs are _concrete_ types.\n",
    "+ The abstract types express concepts and there are no instances of it but singletons. \n",
    "+ The concete types can have instances but cannot be subtyped."
   ]
  },
  {
   "cell_type": "markdown",
   "metadata": {},
   "source": [
    "### Multiple dispatch\n",
    "\n",
    "If types are specified in the functions signature the compiler (first compiles and then) calls appropiate function based on the type of all the arguments. That is, unlike in OO programing, it is not the first types that owns the method. There is nothing special about the first argument; think Int.__add__(self, other) in Python. "
   ]
  },
  {
   "cell_type": "code",
   "execution_count": null,
   "metadata": {
    "collapsed": false
   },
   "outputs": [],
   "source": [
    "# + is a function +(x, y) = ... . Which one is called based on args\n",
    "@which 1+3"
   ]
  },
  {
   "cell_type": "code",
   "execution_count": null,
   "metadata": {
    "collapsed": false
   },
   "outputs": [],
   "source": [
    "@which 0x1+0x3"
   ]
  },
  {
   "cell_type": "code",
   "execution_count": null,
   "metadata": {
    "collapsed": false
   },
   "outputs": [],
   "source": [
    "@which 1+2."
   ]
  },
  {
   "cell_type": "markdown",
   "metadata": {},
   "source": [
    "New types can be defined easily."
   ]
  },
  {
   "cell_type": "code",
   "execution_count": null,
   "metadata": {
    "collapsed": false
   },
   "outputs": [],
   "source": [
    "\"\"\"Polynomial with value c[i]*sin(i*pi*x)\"\"\"\n",
    "immutable SinePolynomial{T<:Real}\n",
    "    coefs::Vector{T}\n",
    "end"
   ]
  },
  {
   "cell_type": "code",
   "execution_count": null,
   "metadata": {
    "collapsed": false
   },
   "outputs": [],
   "source": [
    "# If not specified otherwise our parent is Any - the very tip of the type tree\n",
    "super(SinePolynomial)"
   ]
  },
  {
   "cell_type": "code",
   "execution_count": null,
   "metadata": {
    "collapsed": false
   },
   "outputs": [],
   "source": [
    "# Our type is composite i.e. has fields\n",
    "fieldnames(SinePolynomial)"
   ]
  },
  {
   "cell_type": "markdown",
   "metadata": {},
   "source": [
    "To add 'its methods' we define functions with the new type. These are added to the dispatcher's system and called when needed."
   ]
  },
  {
   "cell_type": "code",
   "execution_count": null,
   "metadata": {
    "collapsed": false
   },
   "outputs": [],
   "source": [
    "import Base: +, -, call\n",
    "# Add () for evaluating the polynomial\n",
    "call{T}(p::SinePolynomial{T}, x::Real) = sum([c*sum(k*π*x) for (k, c) in enumerate(p.coefs)])\n",
    "\n",
    "# We can add/subtract polynomials. This is simple because of othogonality\n",
    "function +{T, S}(p::SinePolynomial{T}, q::SinePolynomial{S})\n",
    "    np, nq = length(p.coefs), length(q.coefs)\n",
    "    n = max(np, nq)\n",
    "    p = [p.coefs; zeros(T, n-np)]\n",
    "    q = [q.coefs; zeros(S, n-nq)]\n",
    "    SinePolynomial(p+q)\n",
    "end\n",
    "\n",
    "function -{T, S}(p::SinePolynomial{T}, q::SinePolynomial{S})\n",
    "    np, nq = length(p.coefs), length(q.coefs)\n",
    "    n = max(np, nq)\n",
    "    p = [p.coefs; zeros(T, n-np)]\n",
    "    q = [q.coefs; zeros(S, n-nq)]\n",
    "    SinePolynomial(p-q)\n",
    "end\n",
    "\n",
    "# See that + has been added to lookup table for dispatching\n",
    "last(methods(+))"
   ]
  },
  {
   "cell_type": "code",
   "execution_count": null,
   "metadata": {
    "collapsed": false
   },
   "outputs": [],
   "source": [
    "import Base.*\n",
    "# We better prevent multiplications\n",
    "*{T, S}(p::SinePolynomial{T}, q::SinePolynomial{S}) = throw(ArgumentError(\"No multiplication until CosinePolynomial\"))\n",
    "\n",
    "p = SinePolynomial([1, 2, 3])\n",
    "q = SinePolynomial([2, -1])\n",
    "\n",
    "try\n",
    "    p*q\n",
    "catch ArgumentError\n",
    "    println(\"Is it okay? \", applicable(*, (typeof(p), typeof(q))))\n",
    "    nothing\n",
    "end"
   ]
  },
  {
   "cell_type": "markdown",
   "metadata": {},
   "source": [
    "Suppose we want to vectorize the evaluation. In Python we could use _duck typing_ and see if the input supports iteration. Here we simply define new method."
   ]
  },
  {
   "cell_type": "code",
   "execution_count": null,
   "metadata": {
    "collapsed": false
   },
   "outputs": [],
   "source": [
    "Base.call{T}(p::SinePolynomial{T}, X) = [p(x) for x in X]\n",
    "\n",
    "x = linspace(-1, 1, 100)\n",
    "length(p(x))"
   ]
  },
  {
   "cell_type": "code",
   "execution_count": null,
   "metadata": {
    "collapsed": false
   },
   "outputs": [],
   "source": [
    "@which p(x)         # See which one was celled"
   ]
  },
  {
   "cell_type": "markdown",
   "metadata": {},
   "source": [
    "### Type stability\n",
    "+ You do not have to talk about types when writing Julia code\n",
    "+ Compiler does its best to remove uncertainties about types when analyzing the code but this is not always possible\n",
    "+ The generated code must then handle the uncertainty, unboxing\n",
    "+ Consider this example (taken from Introducing Julia and Julia manual)"
   ]
  },
  {
   "cell_type": "code",
   "execution_count": null,
   "metadata": {
    "collapsed": false
   },
   "outputs": [],
   "source": [
    "# Type INstability of s\n",
    "function unstable(n)\n",
    "    s = 0          # S is Float\n",
    "    for i in 1:n\n",
    "        s += s/i   # S is Float\n",
    "    end\n",
    "end\n",
    "\n",
    "# Type stability of s\n",
    "function stable(n)\n",
    "    s = 0.0         # S is Float\n",
    "    for i in 1:n\n",
    "        s += s/i   # S is Float\n",
    "    end\n",
    "end"
   ]
  },
  {
   "cell_type": "markdown",
   "metadata": {},
   "source": [
    "Let's compare the speed"
   ]
  },
  {
   "cell_type": "code",
   "execution_count": null,
   "metadata": {
    "collapsed": false
   },
   "outputs": [],
   "source": [
    "@time stable(1000000)"
   ]
  },
  {
   "cell_type": "code",
   "execution_count": null,
   "metadata": {
    "collapsed": false
   },
   "outputs": [],
   "source": [
    "@time unstable(1000000)"
   ]
  },
  {
   "cell_type": "code",
   "execution_count": null,
   "metadata": {
    "collapsed": false
   },
   "outputs": [],
   "source": [
    "println(\"The speed difference is huge \", 0.063284/0.000002, \". And so is the difference in the number of lines of generated code\")"
   ]
  },
  {
   "cell_type": "code",
   "execution_count": null,
   "metadata": {
    "collapsed": false
   },
   "outputs": [],
   "source": [
    "# Run @code_warntype here as well to see the (un)certainty\n",
    "@code_llvm stable(3)"
   ]
  },
  {
   "cell_type": "code",
   "execution_count": null,
   "metadata": {
    "collapsed": false
   },
   "outputs": [],
   "source": [
    "@code_llvm unstable(3)"
   ]
  },
  {
   "cell_type": "markdown",
   "metadata": {},
   "source": [
    "### CALLING C\n",
    "\n",
    "+ C functions available in shared libraries can be accessed via `ccall`\n",
    "+ In this case Julia's JIT generates code such calling the C function from Julia is as fast as the call from native C\n",
    "+ The arguments to `ccall` are function name, library, return type, tuple of input types and the values for input parameters"
   ]
  },
  {
   "cell_type": "code",
   "execution_count": null,
   "metadata": {
    "collapsed": false
   },
   "outputs": [],
   "source": [
    "# Example setenv via libc\n",
    "function my_setenv(var::AbstractString, value::AbstractString)\n",
    "    ccall((:setenv, \"libc\"), Cint, (Ptr{UInt8}, Ptr{UInt8}, Cint), var, value, 1)\n",
    "end"
   ]
  },
  {
   "cell_type": "code",
   "execution_count": null,
   "metadata": {
    "collapsed": false
   },
   "outputs": [],
   "source": [
    "my_setenv(\"TODAY\", \"TUESDAY\");"
   ]
  },
  {
   "cell_type": "code",
   "execution_count": null,
   "metadata": {
    "collapsed": false
   },
   "outputs": [],
   "source": [
    "# We will write getenv to check it\n",
    "function my_getenv(var::AbstractString)\n",
    "    bytestring(ccall((:getenv, \"libc\"), Ptr{UInt8}, (Ptr{UInt8}, ), var))\n",
    "end"
   ]
  },
  {
   "cell_type": "code",
   "execution_count": null,
   "metadata": {
    "collapsed": false
   },
   "outputs": [],
   "source": [
    "my_getenv(\"TODAY\")"
   ]
  },
  {
   "cell_type": "code",
   "execution_count": null,
   "metadata": {
    "collapsed": false
   },
   "outputs": [],
   "source": [
    "# Polynomial evaluation using GNU scientific library\n",
    "\"\"\"Evaluate polynomial c[1]*x^0 + c[2]*x^1 ... at x\"\"\"\n",
    "function polyval{T<:Real, S<:Real}(c::Vector{T}, x::S)\n",
    "    c = convert(Vector{Float64}, c)\n",
    "    n = length(c)\n",
    "    value = ccall((:gsl_poly_eval, \"libgsl\"), Cdouble, (Ptr{Cdouble}, Cint, Cdouble), c, n, x)\n",
    "    Float64(value)\n",
    "end\n",
    "\n",
    "\"\"\"Vectorized version\"\"\"\n",
    "function polyval{T, S}(c::Vector{T}, X::Vector{S})\n",
    "    [polyval(c, x) for x in X]\n",
    "end"
   ]
  },
  {
   "cell_type": "code",
   "execution_count": null,
   "metadata": {
    "collapsed": false
   },
   "outputs": [],
   "source": [
    "# Plot some random polynomials\n",
    "using PyCall\n",
    "@pyimport matplotlib.pyplot as plt\n",
    "\n",
    "x = collect(linspace(-1, 1, 100)) # 1im will\n",
    "\n",
    "plt.figure()\n",
    "for i in 1:4\n",
    "    c = rand(5)\n",
    "    y = polyval(c, x)\n",
    "    plt.plot(x, y)\n",
    "end\n",
    "plt.show()"
   ]
  },
  {
   "cell_type": "markdown",
   "metadata": {},
   "source": [
    "### METAPROGRAMMING\n",
    "\n",
    "Julia is _homoiconic_ - the code is representable as a data structure in the language. The structure can be manipulated."
   ]
  },
  {
   "cell_type": "code",
   "execution_count": null,
   "metadata": {
    "collapsed": false
   },
   "outputs": [],
   "source": [
    "# A basis building block is symbol\n",
    "typeof(:x)"
   ]
  },
  {
   "cell_type": "code",
   "execution_count": null,
   "metadata": {
    "collapsed": false
   },
   "outputs": [],
   "source": [
    "# Symbols can be combined into expressions\n",
    "f_def = quote\n",
    "    cheer(name) = name * \"!\"\n",
    "end\n",
    "\n",
    "Meta.show_sexpr(f_def)"
   ]
  },
  {
   "cell_type": "code",
   "execution_count": null,
   "metadata": {
    "collapsed": false
   },
   "outputs": [],
   "source": [
    "# And expression can be manipulated. Change the name to yell and !!\n",
    "f_def.args[2].args[1].args[1] = :yell;\n",
    "f_def.args[2].args[2].args[2].args[3] = \"!!!\";"
   ]
  },
  {
   "cell_type": "code",
   "execution_count": null,
   "metadata": {
    "collapsed": false
   },
   "outputs": [],
   "source": [
    "# Expressions can be evaluated. There will be no cheer.\n",
    "eval(f_def);\n",
    "@assert isdefined(:cheer) == false"
   ]
  },
  {
   "cell_type": "code",
   "execution_count": null,
   "metadata": {
    "collapsed": false
   },
   "outputs": [],
   "source": [
    "# However we can yell\n",
    "yell(\"Fire\")"
   ]
  },
  {
   "cell_type": "markdown",
   "metadata": {},
   "source": [
    "The technique is useful when you need to generate a lot of boiler plate code. [Here's](https://github.com/JuliaLang/julia/blob/master/base/linalg/lapack.jl#L110) how Julia generates wrappers for some BLAS functions."
   ]
  },
  {
   "cell_type": "markdown",
   "metadata": {},
   "source": [
    "Next metaprogramming tools are _macros_. Using macros a customized code block can be included into a body of some existing code before its execution. Macros are denoted by @. We've already seen @time, @assert, @code_llvm."
   ]
  },
  {
   "cell_type": "code",
   "execution_count": null,
   "metadata": {
    "collapsed": false
   },
   "outputs": [],
   "source": [
    "# When is macro run?\n",
    "macro makeuppercase(f)   \n",
    "    println(\"I was called.\")\n",
    "    return Expr(:call, :uppercase, f)\n",
    "end\n",
    "\n",
    "# When the code is parsed the macro executes and changes body of f \n",
    "function transform(text::AbstractString)\n",
    "    @makeuppercase text\n",
    "end"
   ]
  },
  {
   "cell_type": "code",
   "execution_count": null,
   "metadata": {
    "collapsed": false
   },
   "outputs": [],
   "source": [
    "# It does not exacute when the function is run.\n",
    "transform(\"ApuhuAs\")"
   ]
  },
  {
   "cell_type": "markdown",
   "metadata": {},
   "source": [
    "Here is a more impressive [example](https://github.com/JuliaLang/julia/blob/master/base/special/erf.jl) from the standard library which computes the inverse of the error function. The idea is that based on the values of argument different polynomial approximation is used. The polynomials are evaluated using Horner's rule and using macro the code for the polynomial evaluation is inlined."
   ]
  },
  {
   "cell_type": "code",
   "execution_count": null,
   "metadata": {
    "collapsed": false
   },
   "outputs": [],
   "source": [
    "# We try to write the same code but evaluation of the polynomial will be done via call to external routine.\n",
    "function _horner(x, p...)\n",
    "    c = p[end]\n",
    "    for i in length(p)-1:-1:1\n",
    "        c = p[i] + c*x\n",
    "    end\n",
    "    c\n",
    "end\n",
    "\n",
    "function _erfinv(x::Float64)\n",
    "    a = abs(x)\n",
    "    if a >= 1.0\n",
    "        if x == 1.0\n",
    "            return Inf\n",
    "        elseif x == -1.0\n",
    "            return -Inf\n",
    "        end\n",
    "        throw(DomainError())\n",
    "    elseif a <= 0.75 # Table 17 in Blair et al.\n",
    "        t = x*x - 0.5625\n",
    "        return x * _horner(t, 0.16030_49558_44066_229311e2,\n",
    "                             -0.90784_95926_29603_26650e2,\n",
    "                              0.18644_91486_16209_87391e3,\n",
    "                             -0.16900_14273_46423_82420e3,\n",
    "                              0.65454_66284_79448_7048e2,\n",
    "                             -0.86421_30115_87247_794e1,\n",
    "                              0.17605_87821_39059_0) /\n",
    "                   _horner(t, 0.14780_64707_15138_316110e2,\n",
    "                             -0.91374_16702_42603_13936e2,\n",
    "                              0.21015_79048_62053_17714e3,\n",
    "                             -0.22210_25412_18551_32366e3,\n",
    "                              0.10760_45391_60551_23830e3,\n",
    "                             -0.20601_07303_28265_443e2,\n",
    "                              0.1e1)\n",
    "    elseif a <= 0.9375 # Table 37 in Blair et al.\n",
    "        t = x*x - 0.87890625\n",
    "        return x * _horner(t, -0.15238_92634_40726_128e-1,\n",
    "                               0.34445_56924_13612_5216,\n",
    "                              -0.29344_39867_25424_78687e1,\n",
    "                               0.11763_50570_52178_27302e2,\n",
    "                              -0.22655_29282_31011_04193e2,\n",
    "                               0.19121_33439_65803_30163e2,\n",
    "                              -0.54789_27619_59831_8769e1,\n",
    "                               0.23751_66890_24448) /\n",
    "                   _horner(t, -0.10846_51696_02059_954e-1,\n",
    "                               0.26106_28885_84307_8511,\n",
    "                              -0.24068_31810_43937_57995e1,\n",
    "                               0.10695_12997_33870_14469e2,\n",
    "                              -0.23716_71552_15965_81025e2,\n",
    "                               0.24640_15894_39172_84883e2,\n",
    "                              -0.10014_37634_97830_70835e2,\n",
    "                               0.1e1)\n",
    "    else # Table 57 in Blair et al.\n",
    "        t = 1.0 / sqrt(-log(1.0 - a))\n",
    "        return _horner(t, 0.10501_31152_37334_38116e-3,\n",
    "                          0.10532_61131_42333_38164_25e-1,\n",
    "                          0.26987_80273_62432_83544_516,\n",
    "                          0.23268_69578_89196_90806_414e1,\n",
    "                          0.71678_54794_91079_96810_001e1,\n",
    "                          0.85475_61182_21678_27825_185e1,\n",
    "                          0.68738_08807_35438_39802_913e1,\n",
    "                          0.36270_02483_09587_08930_02e1,\n",
    "                          0.88606_27392_96515_46814_9) /\n",
    "              (copysign(t, x) *\n",
    "               _horner(t, 0.10501_26668_70303_37690e-3,\n",
    "                          0.10532_86230_09333_27531_11e-1,\n",
    "                          0.27019_86237_37515_54845_553,\n",
    "                          0.23501_43639_79702_53259_123e1,\n",
    "                          0.76078_02878_58012_77064_351e1,\n",
    "                          0.11181_58610_40569_07827_3451e2,\n",
    "                          0.11948_78791_84353_96667_8438e2,\n",
    "                          0.81922_40974_72699_07893_913e1,\n",
    "                          0.40993_87907_63680_15361_45e1,\n",
    "                          0.1e1))\n",
    "    end\n",
    "end"
   ]
  },
  {
   "cell_type": "code",
   "execution_count": null,
   "metadata": {
    "collapsed": false
   },
   "outputs": [],
   "source": [
    "# Make sure it works\n",
    "erfinv(0.002) - _erfinv(0.002)"
   ]
  },
  {
   "cell_type": "code",
   "execution_count": null,
   "metadata": {
    "collapsed": false
   },
   "outputs": [],
   "source": [
    "# Is there a difference in performance?\n",
    "@time [erfinv(x) for x in -1:0.00001:1];"
   ]
  },
  {
   "cell_type": "code",
   "execution_count": null,
   "metadata": {
    "collapsed": false
   },
   "outputs": [],
   "source": [
    "# _erfinv is about 2x slower. Note the difference in memory\n",
    "@time [_erfinv(x) for x in -1:0.00001:1];"
   ]
  },
  {
   "cell_type": "markdown",
   "metadata": {},
   "source": [
    "Final technique we will illustrate is _staged programming_. Using _@generated_ with function definition we can generated code based on the type of arguments. We work with type annotated AST. "
   ]
  },
  {
   "cell_type": "code",
   "execution_count": 1,
   "metadata": {
    "collapsed": true
   },
   "outputs": [],
   "source": [
    "# We make the polynomial degree available to the type system\n",
    "\"x^n\"\n",
    "type Monomial{n}\n",
    "end"
   ]
  },
  {
   "cell_type": "code",
   "execution_count": 2,
   "metadata": {
    "collapsed": false
   },
   "outputs": [
    {
     "data": {
      "text/plain": [
       "evaluate (generic function with 1 method)"
      ]
     },
     "execution_count": 2,
     "metadata": {},
     "output_type": "execute_result"
    }
   ],
   "source": [
    "# We generate code based on n\n",
    "@generated function evaluate{n}(::Monomial{n}, x::Real)\n",
    "    println(\"I was called\")\n",
    "    coefs = zeros(Real, n+1)\n",
    "    coefs[n+1] = 1\n",
    "    quote\n",
    "        return Base.Math.@horner x $(coefs...)\n",
    "    end\n",
    "end"
   ]
  },
  {
   "cell_type": "code",
   "execution_count": 3,
   "metadata": {
    "collapsed": false
   },
   "outputs": [
    {
     "name": "stdout",
     "output_type": "stream",
     "text": [
      "I was called\n"
     ]
    },
    {
     "data": {
      "text/plain": [
       "1.0"
      ]
     },
     "execution_count": 3,
     "metadata": {},
     "output_type": "execute_result"
    }
   ],
   "source": [
    "p = Monomial{2}()\n",
    "evaluate(p, 1.0)  # Print message"
   ]
  },
  {
   "cell_type": "code",
   "execution_count": 4,
   "metadata": {
    "collapsed": false
   },
   "outputs": [
    {
     "data": {
      "text/plain": [
       "4.0"
      ]
     },
     "execution_count": 4,
     "metadata": {},
     "output_type": "execute_result"
    }
   ],
   "source": [
    "evaluate(p, 2.0)  # No message"
   ]
  },
  {
   "cell_type": "code",
   "execution_count": 8,
   "metadata": {
    "collapsed": false
   },
   "outputs": [
    {
     "name": "stdout",
     "output_type": "stream",
     "text": [
      "I was called\n"
     ]
    },
    {
     "data": {
      "text/plain": [
       "81.0"
      ]
     },
     "execution_count": 8,
     "metadata": {},
     "output_type": "execute_result"
    }
   ],
   "source": [
    "evaluate(Monomial{4}(), 3.0)  # New type -> message"
   ]
  },
  {
   "cell_type": "markdown",
   "metadata": {},
   "source": [
    "## BATTERIES INCLUDED\n",
    "\n",
    "+ Julia has a very large scientific stack, e.g. FFT (FFTW by Steven G. Johnson), LA(LAPACK, BLAS, SuiteSparse), statistics\n",
    "+ Native plotting, e.g. _Gadfly_ package\n",
    "+ You can use Python modules(`PyCall`), existing C/Fortran libraries(`ccall`)\n",
    "+ Opportunity to write missing packages!"
   ]
  },
  {
   "cell_type": "code",
   "execution_count": null,
   "metadata": {
    "collapsed": false
   },
   "outputs": [],
   "source": [
    "@pyimport scipy.fftpack as pyfft\n",
    "# Show that FFT works\n",
    "v = rand(20)\n",
    "\n",
    "fft_jl = FFTW.r2r(v, [FFTW.REDFT10])\n",
    "fft_py = pyfft.dct(v)\n",
    "\n",
    "norm(fft_jl - fft_py)"
   ]
  },
  {
   "cell_type": "code",
   "execution_count": null,
   "metadata": {
    "collapsed": false
   },
   "outputs": [],
   "source": [
    "# Native plotting with Gadfly\n",
    "using Gadfly\n",
    "plot(y=fft_jl)"
   ]
  },
  {
   "cell_type": "code",
   "execution_count": null,
   "metadata": {
    "collapsed": false
   },
   "outputs": [],
   "source": [
    "# Linear algebra. The favourite Poisson problem on UnitInterval. Convergence of CG1 FEM\n",
    "A = 0  # Keep A outside for loop\n",
    "for ncells in [2^i for i in 8:14]\n",
    "    h = 1/ncells\n",
    "    x = Float64[h*i for i in 0:ncells]\n",
    "    F = sin(2π*x)\n",
    "    U = sin(2π*x)/4/π^2\n",
    "    \n",
    "    # Based on type of A specialized solver will be called\n",
    "    A = SymTridiagonal(fill(2, ncells+1), fill(-1, ncells))/h\n",
    "    b = h*F\n",
    "\n",
    "    u = A\\b\n",
    "    e = norm(u - U)\n",
    "    println(e)\n",
    "end\n",
    "\n",
    "# Which factorize was dispatched\n",
    "@which factorize(A)"
   ]
  },
  {
   "cell_type": "code",
   "execution_count": null,
   "metadata": {
    "collapsed": false
   },
   "outputs": [],
   "source": [
    "# And now the eigenvalues. Convergence of the smallest eig of -u'' = lambda* u in (0, 1) with homog. Dirichlet bcs\n",
    "for ncells in [2^i for i in 3:11]\n",
    "    h = 1/ncells\n",
    "    x = Float64[h*i for i in 0:ncells]\n",
    "\n",
    "    A = SymTridiagonal(fill(2, ncells+1), fill(-1, ncells))/h\n",
    "    M = SymTridiagonal([1.; fill(4h/6, ncells-1); 1.], fill(h/6, ncells))\n",
    "    \n",
    "    eigw, eigv = eig(full(A), full(M))                          # Dense\n",
    "    # eigw = first(eigs(sparse(A), sparse(M), nev=6, which=:SM))  # Sparse\n",
    "\n",
    "    lmin = minimum(eigw)\n",
    "    println(\"System size $(length(eigw)), error in λ=$(abs(lmin-π^2))\")\n",
    "end"
   ]
  },
  {
   "cell_type": "markdown",
   "metadata": {},
   "source": [
    "## Conclusions\n",
    "+ If you spend a few hours browsing the standard library including the growing number of packages and find out that all you need is available then I highly recommend picking up the language.\n",
    "+ Note that new libraries, even if they are _just_ rewrites of old code, can be buggy. Bad - you don't notice the bug. Good - you fix it and become a contributor."
   ]
  },
  {
   "cell_type": "markdown",
   "metadata": {},
   "source": [
    "## ADDITIONAL RESOURCES\n",
    "\n",
    "+ Wikibook [__Introducing Julia__](https://en.wikibooks.org/wiki/Introducing_Julia)  \n",
    "+ [__Julia manual__](http://docs.julialang.org/en/release-0.4/) from the homepage\n",
    "+ YouTube videos\n",
    "    - Introduction [Steven Johnson](https://www.youtube.com/watch?v=jhlVHoeB05A) @ EuroScipy\n",
    "    - Introduction [Alan Edelman](https://www.youtube.com/watch?v=37L1OMk_3FU) @ MIT\n",
    "    - Some metaprogramming [Jeff Bezanson, Stefan Karpinski](https://www.youtube.com/watch?v=pZTqMSM2ksY) @ Curry On\n",
    "    - Julia + Python [Stefan Karpinksi](https://www.youtube.com/watch?v=PsjANO10KgM) @ PyDATA\n",
    "    - ... and plenty others from [JuliaCon](http://juliacon.org/). See Julia's [YouTube](https://www.youtube.com/user/JuliaLanguage/videos) channel.\n",
    "+ Blog posts (mostly metaprogramming)\n",
    "    - [John Myles White](http://www.johnmyleswhite.com/notebook/category/julia/)\n",
    "    - [Gray Calhoun](http://gray.clhn.org/blog/julia-macros/)\n",
    "+ Source code on [GitHub](https://github.com/JuliaLang/julia)"
   ]
  }
 ],
 "metadata": {
  "celltoolbar": "Raw Cell Format",
  "kernelspec": {
   "display_name": "Julia 0.4.4-pre",
   "language": "julia",
   "name": "julia-0.4"
  },
  "language_info": {
   "file_extension": ".jl",
   "mimetype": "application/julia",
   "name": "julia",
   "version": "0.4.4"
  }
 },
 "nbformat": 4,
 "nbformat_minor": 0
}
