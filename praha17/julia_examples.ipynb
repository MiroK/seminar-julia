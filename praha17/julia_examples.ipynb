{
 "cells": [
  {
   "cell_type": "markdown",
   "metadata": {
    "collapsed": true,
    "deletable": true,
    "editable": true
   },
   "source": [
    "# INTRODUCTION TO JULIA\n",
    "\n",
    "## Warning\n",
    "\n",
    "+ Setting: Phd seminar in Prague 2011. MK talks about _FEniCS_. Wrongly, people fall asleep. __FEniCS is awesome__.\n",
    "+ Setting: Phd seminar in Oslo 2016. MK talks about _Julia_. ???. __Julia is awesome__."
   ]
  },
  {
   "cell_type": "markdown",
   "metadata": {},
   "source": [
    "## Setup\n",
    "\n",
    "+ Ubuntu package from the repository\n",
    "```\n",
    "sudo add-apt-repository ppa:staticfloat/juliareleases\n",
    "sudo add-apt-repository ppa:staticfloat/julia-deps\n",
    "sudo apt-get update\n",
    "sudo apt-get install julia\n",
    "```\n",
    "+ [Download](http://julialang.org/downloads/) binaries (all platforms)\n",
    "+ Build from source code\n",
    "```\n",
    "git clone https://github.com/JuliaLang/julia.git\n",
    "cd julia\n",
    "git checkout release-0.5  # unless you want the latest master\n",
    "make -j 4\n",
    "```\n",
    "+ Try Julia in your browser via [JuliaBox](https://www.juliabox.org/). No installation but Google account required"
   ]
  },
  {
   "cell_type": "markdown",
   "metadata": {},
   "source": [
    "## First steps inside the notebook"
   ]
  },
  {
   "cell_type": "code",
   "execution_count": null,
   "metadata": {
    "collapsed": false
   },
   "outputs": [],
   "source": [
    "# Note that (unlike numpy) the vectors are column vectors, not row vectors\n",
    "A = [1, 2, 3, 4]"
   ]
  },
  {
   "cell_type": "code",
   "execution_count": null,
   "metadata": {
    "collapsed": false
   },
   "outputs": [],
   "source": [
    "# 1-based indexing as if matlab\n",
    "first(A) == A[1]"
   ]
  },
  {
   "cell_type": "code",
   "execution_count": null,
   "metadata": {
    "collapsed": false
   },
   "outputs": [],
   "source": [
    "# Some other matlab influence\n",
    "A.^2   # not A**2"
   ]
  },
  {
   "cell_type": "code",
   "execution_count": null,
   "metadata": {
    "collapsed": false
   },
   "outputs": [],
   "source": [
    "# Just showing off unicode\n",
    "2 ∈ A"
   ]
  },
  {
   "cell_type": "code",
   "execution_count": null,
   "metadata": {
    "collapsed": false
   },
   "outputs": [],
   "source": [
    "# Checking subsets\n",
    "b = Set([2, 3])\n",
    "a = Set(A)"
   ]
  },
  {
   "cell_type": "markdown",
   "metadata": {},
   "source": [
    "Same as in Python we can can if b is a subset of a as `b < a`. But if you got used on the beuty of $\\in$ you might find it hard to settle for `<`. So let's define our first function "
   ]
  },
  {
   "cell_type": "code",
   "execution_count": null,
   "metadata": {
    "collapsed": false
   },
   "outputs": [],
   "source": [
    "⊂(a, b) = a < b"
   ]
  },
  {
   "cell_type": "code",
   "execution_count": null,
   "metadata": {
    "collapsed": false
   },
   "outputs": [],
   "source": [
    "# Testdrive\n",
    "b < a && b ⊂ a "
   ]
  },
  {
   "cell_type": "markdown",
   "metadata": {},
   "source": [
    "## What is Julia ?\n",
    "+ Julia: A fresh approach to numerical computing, see [paper](http://arxiv.org/abs/1411.1607)\n",
    "+ High level, dynamic, (dynamically) typed, general purpose language\n",
    "+ Free and open-source. MIT licence\n",
    "+ Went [viral](https://www.google.com/trends/explore#q=julia%20language) on Valentine's day 2014\n",
    "+ Some features we will see in action today\n",
    "    - type inference\n",
    "    - JIT compiler\n",
    "    - rich typestem\n",
    "    - multiple dispatch\n",
    "    - zero overhead C/Fortran calls \n",
    "    - metaprogramming\n",
    "+ An important feature missing today is _built in parallelism_ (distributed memory)"
   ]
  },
  {
   "cell_type": "markdown",
   "metadata": {},
   "source": [
    "## Why do we need yet another language?\n",
    "\n",
    "Short answer - to address the two language paradigm\n",
    "+ Express the idea in high level language(Python) - setup prototype quickly. Performance far from production code\n",
    "+ Production code then written in low level language (C/C++)\n",
    "+ Write performance critical parts of code in low level language and glue together ([Numba](http://numba.pydata.org/), SWIG)\n",
    "    - FEniCS uses Python to generate C++ code (see poisson.ufl, poisson.h) that is compiled and wrapped for Python\n",
    "    - Diako/[Mikael](http://www.sciencedirect.com/science/article/pii/S0010465516300200) prototype in Python/NumPy and then write the same code in [Cython](https://github.com/spectralDNS/spectralDNS/blob/master/spectralDNS/optimization/cython_maths.in)\n",
    "+ To extend NumPy/SciPy you (usually) have to write C"
   ]
  },
  {
   "cell_type": "markdown",
   "metadata": {},
   "source": [
    "Julia's approach\n",
    "+ Designed to be easy to write with performance close to C\n",
    "+ If that is true you need one language to solve your problem\n",
    "+ It seems to be true: benchmarks from the Julia website"
   ]
  },
  {
   "cell_type": "raw",
   "metadata": {},
   "source": [
    "              |     F|Julia |Python\t|R      |Matlab\t|Octave\t    |Mathm\t|JS\t    |Go\t    |LuaJIT\t|Java\n",
    "--------------|------|------|-------|-------|-------|-----------|-------|-------|-------|-------|----    \n",
    "fib\t          |0.70  |2.11\t|77.76\t|533.52\t|26.89\t|9324.35\t|118.53\t|3.36\t|1.86\t|1.71\t|1.21\n",
    "parse_int\t  |5.05\t |1.45\t|17.02\t|45.73\t|802.52\t|9581.44\t|15.02\t|6.06\t|1.20\t|5.77\t|3.35\n",
    "quicksort\t  |1.31\t |1.15\t|32.89\t|264.54\t|4.92\t|1866.01\t|43.23\t|2.70\t|1.29\t|2.03\t|2.60\n",
    "mandel\t      |0.81\t |0.79\t|15.32\t|53.16\t|7.58\t|451.81\t    |5.13\t|0.66\t|1.11\t|0.67\t|1.35\n",
    "pi_sum\t      |1.00\t |1.00\t|21.99\t|9.56\t|1.00\t|299.31\t    |1.69\t|1.01\t|1.00\t|1.00\t|1.00\n",
    "rand_mat_stat |1.45\t |1.66\t|17.93\t|14.56\t|14.52\t|30.93\t    |5.95\t|2.30\t|2.96\t|3.27\t|3.92\n",
    "rand_mat_mul  |3.48\t |1.02\t|1.14\t|1.57\t|1.12\t|1.12\t    |1.30\t|15.07\t|1.42\t|1.16\t|2.36"
   ]
  },
  {
   "cell_type": "markdown",
   "metadata": {},
   "source": [
    "# Some benchmark problems of our own"
   ]
  },
  {
   "cell_type": "markdown",
   "metadata": {},
   "source": [
    "## Project Euler problem 14. \n",
    "The following iterative sequence is defined for the set of positive integers:\n",
    "\n",
    "+ n → n/2 (n is even)\n",
    "+ n → 3n + 1 (n is odd)\n",
    "\n",
    "Using the rule above and starting with 13, we generate the following sequence: 13 → 40 → 20 → 10 → 5 → 16 → 8 → 4 → 2 → 1. Which starting number, under one million, produces the longest chain? Note that whether the chain terminates for arbitrary $n$ is an unproved conjecture.\n",
    "\n",
    "+ To solve PE problem's the solution must be obtained in less then 60s. Honor code is to beat 1s.\n",
    "+ Note that the code presented here is a bruteforce solution\n",
    "+ The answer it produces is correct"
   ]
  },
  {
   "cell_type": "code",
   "execution_count": null,
   "metadata": {
    "collapsed": false
   },
   "outputs": [],
   "source": [
    "\"\"\"Compute the Collatz chain for number n.\"\"\"\n",
    "function collatz_chain(n)\n",
    "    k = 1\n",
    "    while n > 1\n",
    "        n = isodd(n) ? 3n+1 : n >> 1\n",
    "        k += 1\n",
    "        # println(n)\n",
    "    end\n",
    "    k\n",
    "end\n",
    "\n",
    "\"\"\"Which of the number [1, stop) has the longest Collatz chain.\"\"\"\n",
    "function solve_euler(stop)\n",
    "    n, N, N_max = 1, 0, 0  \n",
    "    while n < stop\n",
    "        value = collatz_chain(n)\n",
    "        if value > N_max\n",
    "            N = n\n",
    "            N_max = value\n",
    "        end\n",
    "        n += 1\n",
    "    end\n",
    "    (N, N_max)\n",
    "end"
   ]
  },
  {
   "cell_type": "code",
   "execution_count": null,
   "metadata": {
    "collapsed": false
   },
   "outputs": [],
   "source": [
    "# Let's time it\n",
    "N = 1000000\n",
    "t0 = tic()\n",
    "answer = solve_euler(N)\n",
    "t1 = toc();\n",
    "answer, t1"
   ]
  },
  {
   "cell_type": "code",
   "execution_count": null,
   "metadata": {
    "collapsed": false
   },
   "outputs": [],
   "source": [
    "@time solve_euler(N)"
   ]
  },
  {
   "cell_type": "markdown",
   "metadata": {},
   "source": [
    "Julia is done in about 0.5s, Python need ~24s. So with Julia I am onto the next problem. With Python it is back to the drawing board."
   ]
  },
  {
   "cell_type": "markdown",
   "metadata": {},
   "source": [
    "## Julia fractal\n",
    "+ It is only approprate that we explore the Julia set\n",
    "+ Explore points $z$ in the complex plain such that $z_{n+1}=z^2_{n}+c$ is bounded for any n"
   ]
  },
  {
   "cell_type": "code",
   "execution_count": null,
   "metadata": {
    "collapsed": false
   },
   "outputs": [],
   "source": [
    "# Julia code is a translation of the definition\n",
    "\"\"\"Color Julia set. Code from https://www.youtube.com/watch?v=PsjANO10KgM\"\"\"\n",
    "function julia(z, c)\n",
    "    for n in 1:80\n",
    "        if abs2(z) > 4\n",
    "            return n-1\n",
    "        end\n",
    "        z = z*z + c\n",
    "    end\n",
    "    return 80\n",
    "end\n",
    "\n",
    "\"\"\"Color Julia set. Prealoc version\"\"\"\n",
    "function julia(x, y, c)\n",
    "    J = zeros(length(x), length(y))\n",
    "    index = 0\n",
    "    for r in y, i in x\n",
    "        index += 1\n",
    "        J[index] = julia(complex(r, i), c)\n",
    "    end\n",
    "    J\n",
    "end"
   ]
  },
  {
   "cell_type": "code",
   "execution_count": null,
   "metadata": {
    "collapsed": false
   },
   "outputs": [],
   "source": [
    "# We explore a few points\n",
    "cs = (complex(-0.06, 0.67), complex(0.279, 0), complex(-0.4, 0.6), complex(0.285, 0.01))\n",
    "\n",
    "x = collect(1:-0.002:-1);\n",
    "y = collect(-1.5:0.002:1.5);\n",
    "\n",
    "Js = []\n",
    "# Evaluate fractal generation\n",
    "t0 = tic()\n",
    "for c in cs\n",
    "    # No prealoc \n",
    "    push!(Js, [julia(complex(r, i), c) for i in x, r in y]);\n",
    "    # Prealoc out\n",
    "    push!(Js, julia(x, y, c));\n",
    "end\n",
    "t1 = toc()\n",
    "\n",
    "@printf(\"Generated in %.4f s\\n\", t1);\n",
    "println(\"Image size $(size(Js[1], 1))x$(size(Js[1], 2))\")"
   ]
  },
  {
   "cell_type": "code",
   "execution_count": null,
   "metadata": {
    "collapsed": false
   },
   "outputs": [],
   "source": [
    "# Here we use python interopt(more on that later) to plot the fractals\n",
    "using PyPlot\n",
    "\n",
    "for J in Js\n",
    "    figure(figsize=(12, 8))\n",
    "    imshow(J, cmap=\"viridis\", extent=[-1.5, 1.5, -1, 1])\n",
    "end\n",
    "show()"
   ]
  },
  {
   "cell_type": "markdown",
   "metadata": {},
   "source": [
    "Python requires close to 5s to generate the fractals. With either of the Julia versions the execution time is close to 1s. Note that at this point we have two `julia` methods. Which one gets called when the code is run is our first encounter with _multiple dispatch_."
   ]
  },
  {
   "cell_type": "code",
   "execution_count": null,
   "metadata": {
    "collapsed": true
   },
   "outputs": [],
   "source": []
  }
 ],
 "metadata": {
  "kernelspec": {
   "display_name": "Julia 0.5.0",
   "language": "julia",
   "name": "julia-0.5"
  },
  "language_info": {
   "file_extension": ".jl",
   "mimetype": "application/julia",
   "name": "julia",
   "version": "0.5.0"
  }
 },
 "nbformat": 4,
 "nbformat_minor": 2
}
