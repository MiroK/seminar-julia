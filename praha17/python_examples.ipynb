{
 "cells": [
  {
   "cell_type": "markdown",
   "metadata": {},
   "source": [
    "## Comparing Python and Julia"
   ]
  },
  {
   "cell_type": "markdown",
   "metadata": {},
   "source": [
    "This is a bruteforce attempt at solving Project Euler problem 14 with Python. The implementation is such that it is one-to-one with corresponding Julia code."
   ]
  },
  {
   "cell_type": "code",
   "execution_count": null,
   "metadata": {
    "collapsed": true
   },
   "outputs": [],
   "source": [
    "# Collatz\n",
    "def collatz_chain(n):\n",
    "    'Compute the Collatz chain for number n.'\n",
    "    k = 1\n",
    "    while n > 1:\n",
    "        n = 3*n+1 if (n % 2) else n >> 1\n",
    "        k += 1\n",
    "        # print n\n",
    "    return k\n",
    "\n",
    "def solve_euler(stop):\n",
    "    'Which of the number [1, stop) has the longest Collatz chain.'\n",
    "    n, N, N_max = 1, 0, 0  \n",
    "    while n < stop:\n",
    "        value = collatz_chain(n)\n",
    "        if value > N_max:\n",
    "            N = n\n",
    "            N_max = value\n",
    "        n += 1\n",
    "    return N, N_max"
   ]
  },
  {
   "cell_type": "markdown",
   "metadata": {},
   "source": [
    "Python code here is slow so we rather not exacute it multiple times as with %timeit magic."
   ]
  },
  {
   "cell_type": "code",
   "execution_count": null,
   "metadata": {
    "collapsed": false
   },
   "outputs": [],
   "source": [
    "import time\n",
    "\n",
    "N = 1000000\n",
    "t0 = time.time()\n",
    "ans = solve_euler(N)\n",
    "t1 = time.time() - t0\n",
    "ans, t1"
   ]
  },
  {
   "cell_type": "markdown",
   "metadata": {},
   "source": [
    "Next we consider a problem of drawing a Julia fractal. In Python we try to implement a rather clever heavily vectorized algorithm"
   ]
  },
  {
   "cell_type": "code",
   "execution_count": null,
   "metadata": {
    "collapsed": true
   },
   "outputs": [],
   "source": [
    "import numpy as np\n",
    "\n",
    "# Adopted from https://thesamovar.wordpress.com/2009/03/22/fast-fractals-with-python-and-numpy/\n",
    "def julia(x, y, c):\n",
    "    X, Y = np.meshgrid(x, y)\n",
    "    Z = X + complex(0, 1)*Y\n",
    "    del X, Y\n",
    "    \n",
    "    C = c*np.ones(Z.shape, dtype=complex)\n",
    "    img = 80*np.ones(C.shape, dtype=int)\n",
    "    # We will shrink Z, C inside the loop if certain point is found unbounded\n",
    "    ix, iy = np.mgrid[0:Z.shape[0], 0:Z.shape[1]]\n",
    "    Z, C, ix, iy = map(lambda mat: mat.flatten(), (Z, C, ix, iy))\n",
    "\n",
    "    for i in xrange(80):\n",
    "        if not len(Z): break\n",
    "        np.multiply(Z, Z, Z)  # z**2 + c\n",
    "        np.add(Z, C, Z)\n",
    "        rem = abs(Z) > 2.0    # Unbounded - definite color\n",
    "        img[ix[rem], iy[rem]] = i + 1\n",
    "        rem = ~rem            # Bounded - keep for next round\n",
    "        Z = Z[rem]                    # Update variables for next round\n",
    "        ix, iy = ix[rem], iy[rem]\n",
    "        C = C[rem]\n",
    "    return img"
   ]
  },
  {
   "cell_type": "code",
   "execution_count": 10,
   "metadata": {
    "collapsed": false
   },
   "outputs": [
    {
     "name": "stdout",
     "output_type": "stream",
     "text": [
      "Generated in 4.9341 s\n",
      "Image size 1000 x 1500\n"
     ]
    }
   ],
   "source": [
    "cs = (complex(-0.06, 0.67), complex(0.279, 0), complex(-0.4, 0.6), complex(0.285, 0.01))\n",
    "\n",
    "x = np.arange(-1.5, 1.5, 0.002)\n",
    "y = np.arange(1, -1, -0.002)\n",
    "\n",
    "Js = []\n",
    "# Evaluate fractal generation\n",
    "t0 = time.time()\n",
    "for c in cs:\n",
    "    Js.append(julia(x, y, c))\n",
    "t1 = time.time() - t0\n",
    "print 'Generated in %.4f s' % t1\n",
    "print 'Image size %d x %d' % Js[0].shape"
   ]
  },
  {
   "cell_type": "code",
   "execution_count": null,
   "metadata": {
    "collapsed": false
   },
   "outputs": [],
   "source": [
    "%matplotlib inline\n",
    "import matplotlib.pyplot as plt\n",
    "\n",
    "for J in Js:\n",
    "    plt.figure(figsize=(12, 8))\n",
    "    plt.imshow(J, cmap=\"viridis\", extent=[-1.5, 1.5, -1, 1])\n",
    "plt.show()"
   ]
  },
  {
   "cell_type": "code",
   "execution_count": null,
   "metadata": {
    "collapsed": true
   },
   "outputs": [],
   "source": []
  }
 ],
 "metadata": {
  "kernelspec": {
   "display_name": "Python 2",
   "language": "python",
   "name": "python2"
  },
  "language_info": {
   "codemirror_mode": {
    "name": "ipython",
    "version": 2
   },
   "file_extension": ".py",
   "mimetype": "text/x-python",
   "name": "python",
   "nbconvert_exporter": "python",
   "pygments_lexer": "ipython2",
   "version": "2.7.12"
  }
 },
 "nbformat": 4,
 "nbformat_minor": 2
}
