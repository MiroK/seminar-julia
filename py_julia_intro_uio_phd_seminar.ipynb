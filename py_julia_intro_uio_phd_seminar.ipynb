{
 "cells": [
  {
   "cell_type": "code",
   "execution_count": null,
   "metadata": {
    "collapsed": false
   },
   "outputs": [],
   "source": [
    "# Show that python is row majored\n",
    "import numpy as np\n",
    "\n",
    "A = np.arange(1, 26).reshape(5, 5)\n",
    "A"
   ]
  },
  {
   "cell_type": "code",
   "execution_count": null,
   "metadata": {
    "collapsed": false
   },
   "outputs": [],
   "source": [
    "# Row iteration in python\n",
    "for row in A:\n",
    "    row += 1\n",
    "print A"
   ]
  },
  {
   "cell_type": "code",
   "execution_count": null,
   "metadata": {
    "collapsed": false
   },
   "outputs": [],
   "source": [
    "try:\n",
    "    A[8]\n",
    "except IndexError:\n",
    "    print \"No linear indexing\""
   ]
  },
  {
   "cell_type": "code",
   "execution_count": null,
   "metadata": {
    "collapsed": false
   },
   "outputs": [],
   "source": [
    "# Collatz\n",
    "def collatz_chain(n):\n",
    "    'Compute the Collatz chain for number n.'\n",
    "    k = 1\n",
    "    while n > 1:\n",
    "        n = 3*n+1 if (n % 2) else n >> 1\n",
    "        k += 1\n",
    "        # print n\n",
    "    return k\n",
    "\n",
    "def solve_euler(stop):\n",
    "    'Which of the number [1, stop) has the longest Collatz chain.'\n",
    "    n, N, N_max = 1, 0, 0  \n",
    "    while n < stop:\n",
    "        value = collatz_chain(n)\n",
    "        if value > N_max:\n",
    "            N = n\n",
    "            N_max = value\n",
    "        n += 1\n",
    "    return N, N_max\n",
    "\n",
    "import time"
   ]
  },
  {
   "cell_type": "code",
   "execution_count": null,
   "metadata": {
    "collapsed": false
   },
   "outputs": [],
   "source": [
    "N = 1000000\n",
    "t0 = time.time()\n",
    "ans = solve_euler(N)\n",
    "t1 = time.time() - t0\n",
    "ans, t1"
   ]
  }
 ],
 "metadata": {
  "kernelspec": {
   "display_name": "Python 2",
   "language": "python",
   "name": "python2"
  },
  "language_info": {
   "codemirror_mode": {
    "name": "ipython",
    "version": 2
   },
   "file_extension": ".py",
   "mimetype": "text/x-python",
   "name": "python",
   "nbconvert_exporter": "python",
   "pygments_lexer": "ipython2",
   "version": "2.7.11"
  }
 },
 "nbformat": 4,
 "nbformat_minor": 0
}
